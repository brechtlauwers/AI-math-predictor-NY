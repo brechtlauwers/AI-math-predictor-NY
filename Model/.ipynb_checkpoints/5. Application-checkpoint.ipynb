{
 "cells": [
  {
   "cell_type": "markdown",
   "id": "df92d04f",
   "metadata": {},
   "source": [
    "This notebook will create an application from the SVM model and makes it ready to deploy online."
   ]
  },
  {
   "cell_type": "code",
   "execution_count": 9,
   "id": "af14fe66",
   "metadata": {},
   "outputs": [],
   "source": [
    "# imports\n",
    "import pandas as pd\n",
    "from sklearn.model_selection import train_test_split\n",
    "from sklearn.preprocessing import StandardScaler\n",
    "from sklearn.decomposition import PCA\n",
    "from sklearn.dummy import DummyRegressor\n",
    "from sklearn.svm import SVR\n",
    "\n",
    "import pickle\n",
    "import gradio as gr"
   ]
  },
  {
   "cell_type": "markdown",
   "id": "24a02376",
   "metadata": {},
   "source": [
    "### Load pipeline"
   ]
  },
  {
   "cell_type": "code",
   "execution_count": 19,
   "id": "c875aa59",
   "metadata": {},
   "outputs": [],
   "source": [
    "pipeline = pickle.load(open(\"model.pkl\", 'rb'))"
   ]
  },
  {
   "cell_type": "code",
   "execution_count": 20,
   "id": "67910965",
   "metadata": {},
   "outputs": [],
   "source": [
    "# Load data\n",
    "math_df = pd.read_csv('../Data/Math_Test_Results_Cleaned.csv')\n",
    "X = math_df.drop('Mean Scale Score', axis=1)\n",
    "y = math_df['Mean Scale Score']\n",
    "X_train, X_test, y_train, y_test = train_test_split(X, y, test_size = 0.2, random_state = 1)"
   ]
  },
  {
   "cell_type": "code",
   "execution_count": 22,
   "id": "569d9352",
   "metadata": {},
   "outputs": [
    {
     "data": {
      "text/plain": [
       "0.979721351891418"
      ]
     },
     "execution_count": 22,
     "metadata": {},
     "output_type": "execute_result"
    }
   ],
   "source": [
    "pipeline.score(X_test, y_test)"
   ]
  },
  {
   "cell_type": "markdown",
   "id": "ceb29e3a",
   "metadata": {},
   "source": [
    "The pipeline has been loaded successfully!"
   ]
  },
  {
   "cell_type": "markdown",
   "id": "3db2d930",
   "metadata": {},
   "source": [
    "### Deploy with Gradio\n",
    "First of all, gradio needs a callable function.  \n",
    "This is the prediction function in my case. "
   ]
  },
  {
   "cell_type": "code",
   "execution_count": 77,
   "id": "4c65e49a",
   "metadata": {},
   "outputs": [],
   "source": [
    "def predict_score(grade, year, n_lvl1, n_lvl2, n_lvl3, n_lvl4, DBN):\n",
    "    n_tested = n_lvl1 + n_lvl2 + n_lvl3 + n_lvl4\n",
    "    \n",
    "    pct_lvl1 = 0 if n_lvl1==0 else (n_lvl1 / n_tested) * 100\n",
    "    pct_lvl2 = 0 if n_lvl2==0 else (n_lvl2 / n_tested) * 100\n",
    "    pct_lvl3 = 0 if n_lvl3==0 else (n_lvl3 / n_tested) * 100\n",
    "    pct_lvl4 = 0 if n_lvl4==0 else (n_lvl4 / n_tested) * 100\n",
    "    \n",
    "    district_n = DBN[:2]\n",
    "    borough_n = DBN[2]\n",
    "    encoding = {'M':0, 'X':1, 'K':2, 'Q':3, 'R':4}\n",
    "    borough_n = encoding[borough_n]\n",
    "    school_n = DBN[3:]\n",
    "    \n",
    "    X = {\"Grade\":grade, \"Year\":year, \"Number Tested\":n_tested, \"Num Level 1\":n_lvl1, \"Pct Level 1\":pct_lvl1,\n",
    "         \"Num Level 2\":n_lvl2, \"Pct Level 2\":pct_lvl2, \"Num Level 3\":n_lvl3, \"Pct Level 3\":pct_lvl3,\n",
    "         \"Num Level 4\":n_lvl4, \"Pct Level 4\":pct_lvl4, \"District Number\":district_n, \n",
    "         \"Borough Number\":borough_n, \"School Number\":school_n}\n",
    "    \n",
    "    print(X)\n",
    "\n",
    "    y = pipeline.predict(pd.DataFrame(X, index=[0]))\n",
    "    return y"
   ]
  },
  {
   "cell_type": "markdown",
   "id": "eeb2eeb3",
   "metadata": {},
   "source": [
    "We also need some input fields to get information from the user."
   ]
  },
  {
   "cell_type": "code",
   "execution_count": 42,
   "id": "e68fd5a3",
   "metadata": {},
   "outputs": [],
   "source": [
    "#create input and output objects\n",
    "grade = gr.Dropdown([3, 4, 5, 6, 7, 8], label=\"Grade\")\n",
    "year = gr.Dropdown([2006, 2007, 2008, 2009, 2010, 2011, 2012, 2013, 2014, 2015, 2016], label=\"Year\")\n",
    "n_lvl1 = gr.Number(precision=0, label=\"Amount of students in Level 1\")\n",
    "n_lvl2 = gr.Number(precision=0, label=\"Amount of students in Level 2\")\n",
    "n_lvl3 = gr.Number(precision=0, label=\"Amount of students in Level 3\")\n",
    "n_lvl4 = gr.Number(precision=0, label=\"Amount of students in Level 4\")\n",
    "DBN = gr.Textbox(label=\"DBN (e.g. '01M188')\")\n",
    "\n",
    "#output object\n",
    "output = gr.Textbox()"
   ]
  },
  {
   "cell_type": "code",
   "execution_count": 63,
   "id": "e5db0de4",
   "metadata": {},
   "outputs": [
    {
     "data": {
      "text/plain": [
       "Grade                 7.0\n",
       "Year               2012.0\n",
       "Number Tested       412.0\n",
       "Num Level 1           0.0\n",
       "Pct Level 1           0.0\n",
       "Num Level 2          22.0\n",
       "Pct Level 2           5.3\n",
       "Num Level 3          97.0\n",
       "Pct Level 3          23.5\n",
       "Num Level 4         293.0\n",
       "Pct Level 4          71.1\n",
       "District Number      21.0\n",
       "Borough Number        2.0\n",
       "School Number        98.0\n",
       "Name: 15000, dtype: float64"
      ]
     },
     "execution_count": 63,
     "metadata": {},
     "output_type": "execute_result"
    }
   ],
   "source": [
    "X_test.iloc[0]"
   ]
  },
  {
   "cell_type": "code",
   "execution_count": 61,
   "id": "bde782f4",
   "metadata": {
    "scrolled": false
   },
   "outputs": [
    {
     "name": "stdout",
     "output_type": "stream",
     "text": [
      "Running on local URL:  http://127.0.0.1:7871\n",
      "\n",
      "To create a public link, set `share=True` in `launch()`.\n"
     ]
    },
    {
     "data": {
      "text/html": [
       "<div><iframe src=\"http://127.0.0.1:7871/\" width=\"100%\" height=\"500\" allow=\"autoplay; camera; microphone; clipboard-read; clipboard-write;\" frameborder=\"0\" allowfullscreen></iframe></div>"
      ],
      "text/plain": [
       "<IPython.core.display.HTML object>"
      ]
     },
     "metadata": {},
     "output_type": "display_data"
    },
    {
     "data": {
      "text/plain": []
     },
     "execution_count": 61,
     "metadata": {},
     "output_type": "execute_result"
    },
    {
     "name": "stderr",
     "output_type": "stream",
     "text": [
      "/home/brechtl/miniconda3/envs/aiframeworks/lib/python3.10/site-packages/sklearn/base.py:450: UserWarning: X does not have valid feature names, but StandardScaler was fitted with feature names\n",
      "  warnings.warn(\n",
      "Traceback (most recent call last):\n",
      "  File \"/home/brechtl/miniconda3/envs/aiframeworks/lib/python3.10/site-packages/gradio/routes.py\", line 322, in run_predict\n",
      "    output = await app.get_blocks().process_api(\n",
      "  File \"/home/brechtl/miniconda3/envs/aiframeworks/lib/python3.10/site-packages/gradio/blocks.py\", line 1015, in process_api\n",
      "    result = await self.call_function(\n",
      "  File \"/home/brechtl/miniconda3/envs/aiframeworks/lib/python3.10/site-packages/gradio/blocks.py\", line 833, in call_function\n",
      "    prediction = await anyio.to_thread.run_sync(\n",
      "  File \"/home/brechtl/miniconda3/envs/aiframeworks/lib/python3.10/site-packages/anyio/to_thread.py\", line 31, in run_sync\n",
      "    return await get_asynclib().run_sync_in_worker_thread(\n",
      "  File \"/home/brechtl/miniconda3/envs/aiframeworks/lib/python3.10/site-packages/anyio/_backends/_asyncio.py\", line 937, in run_sync_in_worker_thread\n",
      "    return await future\n",
      "  File \"/home/brechtl/miniconda3/envs/aiframeworks/lib/python3.10/site-packages/anyio/_backends/_asyncio.py\", line 867, in run\n",
      "    result = context.run(func, *args)\n",
      "  File \"/tmp/ipykernel_22433/3088882947.py\", line 19, in predict_score\n",
      "    y = pipeline.predict(pd.Series(X))\n",
      "  File \"/home/brechtl/miniconda3/envs/aiframeworks/lib/python3.10/site-packages/sklearn/pipeline.py\", line 457, in predict\n",
      "    Xt = transform.transform(Xt)\n",
      "  File \"/home/brechtl/miniconda3/envs/aiframeworks/lib/python3.10/site-packages/sklearn/preprocessing/_data.py\", line 975, in transform\n",
      "    X = self._validate_data(\n",
      "  File \"/home/brechtl/miniconda3/envs/aiframeworks/lib/python3.10/site-packages/sklearn/base.py\", line 577, in _validate_data\n",
      "    X = check_array(X, input_name=\"X\", **check_params)\n",
      "  File \"/home/brechtl/miniconda3/envs/aiframeworks/lib/python3.10/site-packages/sklearn/utils/validation.py\", line 856, in check_array\n",
      "    array = np.asarray(array, order=order, dtype=dtype)\n",
      "  File \"/home/brechtl/miniconda3/envs/aiframeworks/lib/python3.10/site-packages/pandas/core/series.py\", line 872, in __array__\n",
      "    return np.asarray(self._values, dtype)\n",
      "TypeError: float() argument must be a string or a real number, not 'function'\n"
     ]
    }
   ],
   "source": [
    "gui = gr.Interface(fn=predict_score,\n",
    "                   inputs=[grade, year, n_lvl1, n_lvl2, n_lvl3, n_lvl4, DBN],\n",
    "                   outputs=[output])\n",
    "gui.launch()"
   ]
  },
  {
   "cell_type": "code",
   "execution_count": 78,
   "id": "2ba89189",
   "metadata": {},
   "outputs": [
    {
     "name": "stdout",
     "output_type": "stream",
     "text": [
      "{'Grade': 5, 'Year': 2010, 'Number Tested': 100, 'Num Level 1': 10, 'Pct Level 1': 10.0, 'Num Level 2': 20, 'Pct Level 2': 20.0, 'Num Level 3': 20, 'Pct Level 3': 20.0, 'Num Level 4': 50, 'Pct Level 4': 50.0, 'District Number': '01', 'Borough Number': 0, 'School Number': '188'}\n"
     ]
    },
    {
     "ename": "ValueError",
     "evalue": "If using all scalar values, you must pass an index",
     "output_type": "error",
     "traceback": [
      "\u001b[0;31m---------------------------------------------------------------------------\u001b[0m",
      "\u001b[0;31mValueError\u001b[0m                                Traceback (most recent call last)",
      "Input \u001b[0;32mIn [78]\u001b[0m, in \u001b[0;36m<cell line: 1>\u001b[0;34m()\u001b[0m\n\u001b[0;32m----> 1\u001b[0m \u001b[38;5;28mprint\u001b[39m(\u001b[43mpredict_score\u001b[49m\u001b[43m(\u001b[49m\u001b[43mgrade\u001b[49m\u001b[38;5;241;43m=\u001b[39;49m\u001b[38;5;241;43m5\u001b[39;49m\u001b[43m,\u001b[49m\u001b[43m \u001b[49m\u001b[43myear\u001b[49m\u001b[38;5;241;43m=\u001b[39;49m\u001b[38;5;241;43m2010\u001b[39;49m\u001b[43m,\u001b[49m\u001b[43m \u001b[49m\u001b[43mn_lvl1\u001b[49m\u001b[38;5;241;43m=\u001b[39;49m\u001b[38;5;241;43m10\u001b[39;49m\u001b[43m,\u001b[49m\u001b[43m \u001b[49m\u001b[43mn_lvl2\u001b[49m\u001b[38;5;241;43m=\u001b[39;49m\u001b[38;5;241;43m20\u001b[39;49m\u001b[43m,\u001b[49m\u001b[43m \u001b[49m\u001b[43mn_lvl3\u001b[49m\u001b[38;5;241;43m=\u001b[39;49m\u001b[38;5;241;43m20\u001b[39;49m\u001b[43m,\u001b[49m\u001b[43m \u001b[49m\u001b[43mn_lvl4\u001b[49m\u001b[38;5;241;43m=\u001b[39;49m\u001b[38;5;241;43m50\u001b[39;49m\u001b[43m,\u001b[49m\u001b[43m \u001b[49m\u001b[43mDBN\u001b[49m\u001b[38;5;241;43m=\u001b[39;49m\u001b[38;5;124;43m\"\u001b[39;49m\u001b[38;5;124;43m01M188\u001b[39;49m\u001b[38;5;124;43m\"\u001b[39;49m\u001b[43m)\u001b[49m)\n",
      "Input \u001b[0;32mIn [77]\u001b[0m, in \u001b[0;36mpredict_score\u001b[0;34m(grade, year, n_lvl1, n_lvl2, n_lvl3, n_lvl4, DBN)\u001b[0m\n\u001b[1;32m     15\u001b[0m X \u001b[38;5;241m=\u001b[39m {\u001b[38;5;124m\"\u001b[39m\u001b[38;5;124mGrade\u001b[39m\u001b[38;5;124m\"\u001b[39m:grade, \u001b[38;5;124m\"\u001b[39m\u001b[38;5;124mYear\u001b[39m\u001b[38;5;124m\"\u001b[39m:year, \u001b[38;5;124m\"\u001b[39m\u001b[38;5;124mNumber Tested\u001b[39m\u001b[38;5;124m\"\u001b[39m:n_tested, \u001b[38;5;124m\"\u001b[39m\u001b[38;5;124mNum Level 1\u001b[39m\u001b[38;5;124m\"\u001b[39m:n_lvl1, \u001b[38;5;124m\"\u001b[39m\u001b[38;5;124mPct Level 1\u001b[39m\u001b[38;5;124m\"\u001b[39m:pct_lvl1,\n\u001b[1;32m     16\u001b[0m      \u001b[38;5;124m\"\u001b[39m\u001b[38;5;124mNum Level 2\u001b[39m\u001b[38;5;124m\"\u001b[39m:n_lvl2, \u001b[38;5;124m\"\u001b[39m\u001b[38;5;124mPct Level 2\u001b[39m\u001b[38;5;124m\"\u001b[39m:pct_lvl2, \u001b[38;5;124m\"\u001b[39m\u001b[38;5;124mNum Level 3\u001b[39m\u001b[38;5;124m\"\u001b[39m:n_lvl3, \u001b[38;5;124m\"\u001b[39m\u001b[38;5;124mPct Level 3\u001b[39m\u001b[38;5;124m\"\u001b[39m:pct_lvl3,\n\u001b[1;32m     17\u001b[0m      \u001b[38;5;124m\"\u001b[39m\u001b[38;5;124mNum Level 4\u001b[39m\u001b[38;5;124m\"\u001b[39m:n_lvl4, \u001b[38;5;124m\"\u001b[39m\u001b[38;5;124mPct Level 4\u001b[39m\u001b[38;5;124m\"\u001b[39m:pct_lvl4, \u001b[38;5;124m\"\u001b[39m\u001b[38;5;124mDistrict Number\u001b[39m\u001b[38;5;124m\"\u001b[39m:district_n, \n\u001b[1;32m     18\u001b[0m      \u001b[38;5;124m\"\u001b[39m\u001b[38;5;124mBorough Number\u001b[39m\u001b[38;5;124m\"\u001b[39m:borough_n, \u001b[38;5;124m\"\u001b[39m\u001b[38;5;124mSchool Number\u001b[39m\u001b[38;5;124m\"\u001b[39m:school_n}\n\u001b[1;32m     20\u001b[0m \u001b[38;5;28mprint\u001b[39m(X)\n\u001b[0;32m---> 22\u001b[0m y \u001b[38;5;241m=\u001b[39m pipeline\u001b[38;5;241m.\u001b[39mpredict(\u001b[43mpd\u001b[49m\u001b[38;5;241;43m.\u001b[39;49m\u001b[43mDataFrame\u001b[49m\u001b[43m(\u001b[49m\u001b[43mX\u001b[49m\u001b[43m)\u001b[49m)\n\u001b[1;32m     23\u001b[0m \u001b[38;5;28;01mreturn\u001b[39;00m y\n",
      "File \u001b[0;32m~/miniconda3/envs/aiframeworks/lib/python3.10/site-packages/pandas/core/frame.py:636\u001b[0m, in \u001b[0;36mDataFrame.__init__\u001b[0;34m(self, data, index, columns, dtype, copy)\u001b[0m\n\u001b[1;32m    630\u001b[0m     mgr \u001b[38;5;241m=\u001b[39m \u001b[38;5;28mself\u001b[39m\u001b[38;5;241m.\u001b[39m_init_mgr(\n\u001b[1;32m    631\u001b[0m         data, axes\u001b[38;5;241m=\u001b[39m{\u001b[38;5;124m\"\u001b[39m\u001b[38;5;124mindex\u001b[39m\u001b[38;5;124m\"\u001b[39m: index, \u001b[38;5;124m\"\u001b[39m\u001b[38;5;124mcolumns\u001b[39m\u001b[38;5;124m\"\u001b[39m: columns}, dtype\u001b[38;5;241m=\u001b[39mdtype, copy\u001b[38;5;241m=\u001b[39mcopy\n\u001b[1;32m    632\u001b[0m     )\n\u001b[1;32m    634\u001b[0m \u001b[38;5;28;01melif\u001b[39;00m \u001b[38;5;28misinstance\u001b[39m(data, \u001b[38;5;28mdict\u001b[39m):\n\u001b[1;32m    635\u001b[0m     \u001b[38;5;66;03m# GH#38939 de facto copy defaults to False only in non-dict cases\u001b[39;00m\n\u001b[0;32m--> 636\u001b[0m     mgr \u001b[38;5;241m=\u001b[39m \u001b[43mdict_to_mgr\u001b[49m\u001b[43m(\u001b[49m\u001b[43mdata\u001b[49m\u001b[43m,\u001b[49m\u001b[43m \u001b[49m\u001b[43mindex\u001b[49m\u001b[43m,\u001b[49m\u001b[43m \u001b[49m\u001b[43mcolumns\u001b[49m\u001b[43m,\u001b[49m\u001b[43m \u001b[49m\u001b[43mdtype\u001b[49m\u001b[38;5;241;43m=\u001b[39;49m\u001b[43mdtype\u001b[49m\u001b[43m,\u001b[49m\u001b[43m \u001b[49m\u001b[43mcopy\u001b[49m\u001b[38;5;241;43m=\u001b[39;49m\u001b[43mcopy\u001b[49m\u001b[43m,\u001b[49m\u001b[43m \u001b[49m\u001b[43mtyp\u001b[49m\u001b[38;5;241;43m=\u001b[39;49m\u001b[43mmanager\u001b[49m\u001b[43m)\u001b[49m\n\u001b[1;32m    637\u001b[0m \u001b[38;5;28;01melif\u001b[39;00m \u001b[38;5;28misinstance\u001b[39m(data, ma\u001b[38;5;241m.\u001b[39mMaskedArray):\n\u001b[1;32m    638\u001b[0m     \u001b[38;5;28;01mimport\u001b[39;00m \u001b[38;5;21;01mnumpy\u001b[39;00m\u001b[38;5;21;01m.\u001b[39;00m\u001b[38;5;21;01mma\u001b[39;00m\u001b[38;5;21;01m.\u001b[39;00m\u001b[38;5;21;01mmrecords\u001b[39;00m \u001b[38;5;28;01mas\u001b[39;00m \u001b[38;5;21;01mmrecords\u001b[39;00m\n",
      "File \u001b[0;32m~/miniconda3/envs/aiframeworks/lib/python3.10/site-packages/pandas/core/internals/construction.py:502\u001b[0m, in \u001b[0;36mdict_to_mgr\u001b[0;34m(data, index, columns, dtype, typ, copy)\u001b[0m\n\u001b[1;32m    494\u001b[0m     arrays \u001b[38;5;241m=\u001b[39m [\n\u001b[1;32m    495\u001b[0m         x\n\u001b[1;32m    496\u001b[0m         \u001b[38;5;28;01mif\u001b[39;00m \u001b[38;5;129;01mnot\u001b[39;00m \u001b[38;5;28mhasattr\u001b[39m(x, \u001b[38;5;124m\"\u001b[39m\u001b[38;5;124mdtype\u001b[39m\u001b[38;5;124m\"\u001b[39m) \u001b[38;5;129;01mor\u001b[39;00m \u001b[38;5;129;01mnot\u001b[39;00m \u001b[38;5;28misinstance\u001b[39m(x\u001b[38;5;241m.\u001b[39mdtype, ExtensionDtype)\n\u001b[1;32m    497\u001b[0m         \u001b[38;5;28;01melse\u001b[39;00m x\u001b[38;5;241m.\u001b[39mcopy()\n\u001b[1;32m    498\u001b[0m         \u001b[38;5;28;01mfor\u001b[39;00m x \u001b[38;5;129;01min\u001b[39;00m arrays\n\u001b[1;32m    499\u001b[0m     ]\n\u001b[1;32m    500\u001b[0m     \u001b[38;5;66;03m# TODO: can we get rid of the dt64tz special case above?\u001b[39;00m\n\u001b[0;32m--> 502\u001b[0m \u001b[38;5;28;01mreturn\u001b[39;00m \u001b[43marrays_to_mgr\u001b[49m\u001b[43m(\u001b[49m\u001b[43marrays\u001b[49m\u001b[43m,\u001b[49m\u001b[43m \u001b[49m\u001b[43mcolumns\u001b[49m\u001b[43m,\u001b[49m\u001b[43m \u001b[49m\u001b[43mindex\u001b[49m\u001b[43m,\u001b[49m\u001b[43m \u001b[49m\u001b[43mdtype\u001b[49m\u001b[38;5;241;43m=\u001b[39;49m\u001b[43mdtype\u001b[49m\u001b[43m,\u001b[49m\u001b[43m \u001b[49m\u001b[43mtyp\u001b[49m\u001b[38;5;241;43m=\u001b[39;49m\u001b[43mtyp\u001b[49m\u001b[43m,\u001b[49m\u001b[43m \u001b[49m\u001b[43mconsolidate\u001b[49m\u001b[38;5;241;43m=\u001b[39;49m\u001b[43mcopy\u001b[49m\u001b[43m)\u001b[49m\n",
      "File \u001b[0;32m~/miniconda3/envs/aiframeworks/lib/python3.10/site-packages/pandas/core/internals/construction.py:120\u001b[0m, in \u001b[0;36marrays_to_mgr\u001b[0;34m(arrays, columns, index, dtype, verify_integrity, typ, consolidate)\u001b[0m\n\u001b[1;32m    117\u001b[0m \u001b[38;5;28;01mif\u001b[39;00m verify_integrity:\n\u001b[1;32m    118\u001b[0m     \u001b[38;5;66;03m# figure out the index, if necessary\u001b[39;00m\n\u001b[1;32m    119\u001b[0m     \u001b[38;5;28;01mif\u001b[39;00m index \u001b[38;5;129;01mis\u001b[39;00m \u001b[38;5;28;01mNone\u001b[39;00m:\n\u001b[0;32m--> 120\u001b[0m         index \u001b[38;5;241m=\u001b[39m \u001b[43m_extract_index\u001b[49m\u001b[43m(\u001b[49m\u001b[43marrays\u001b[49m\u001b[43m)\u001b[49m\n\u001b[1;32m    121\u001b[0m     \u001b[38;5;28;01melse\u001b[39;00m:\n\u001b[1;32m    122\u001b[0m         index \u001b[38;5;241m=\u001b[39m ensure_index(index)\n",
      "File \u001b[0;32m~/miniconda3/envs/aiframeworks/lib/python3.10/site-packages/pandas/core/internals/construction.py:664\u001b[0m, in \u001b[0;36m_extract_index\u001b[0;34m(data)\u001b[0m\n\u001b[1;32m    661\u001b[0m         \u001b[38;5;28;01mraise\u001b[39;00m \u001b[38;5;167;01mValueError\u001b[39;00m(\u001b[38;5;124m\"\u001b[39m\u001b[38;5;124mPer-column arrays must each be 1-dimensional\u001b[39m\u001b[38;5;124m\"\u001b[39m)\n\u001b[1;32m    663\u001b[0m \u001b[38;5;28;01mif\u001b[39;00m \u001b[38;5;129;01mnot\u001b[39;00m indexes \u001b[38;5;129;01mand\u001b[39;00m \u001b[38;5;129;01mnot\u001b[39;00m raw_lengths:\n\u001b[0;32m--> 664\u001b[0m     \u001b[38;5;28;01mraise\u001b[39;00m \u001b[38;5;167;01mValueError\u001b[39;00m(\u001b[38;5;124m\"\u001b[39m\u001b[38;5;124mIf using all scalar values, you must pass an index\u001b[39m\u001b[38;5;124m\"\u001b[39m)\n\u001b[1;32m    666\u001b[0m \u001b[38;5;28;01melif\u001b[39;00m have_series:\n\u001b[1;32m    667\u001b[0m     index \u001b[38;5;241m=\u001b[39m union_indexes(indexes)\n",
      "\u001b[0;31mValueError\u001b[0m: If using all scalar values, you must pass an index"
     ]
    }
   ],
   "source": [
    "print(predict_score(grade=5, year=2010, n_lvl1=10, n_lvl2=20, n_lvl3=20, n_lvl4=50, DBN=\"01M188\"))"
   ]
  }
 ],
 "metadata": {
  "kernelspec": {
   "display_name": "aiframeworks",
   "language": "python",
   "name": "aiframeworks"
  },
  "language_info": {
   "codemirror_mode": {
    "name": "ipython",
    "version": 3
   },
   "file_extension": ".py",
   "mimetype": "text/x-python",
   "name": "python",
   "nbconvert_exporter": "python",
   "pygments_lexer": "ipython3",
   "version": "3.10.4"
  }
 },
 "nbformat": 4,
 "nbformat_minor": 5
}
