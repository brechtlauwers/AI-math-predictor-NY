{
 "cells": [
  {
   "cell_type": "code",
   "execution_count": 1,
   "id": "1f16df60",
   "metadata": {},
   "outputs": [
    {
     "name": "stderr",
     "output_type": "stream",
     "text": [
      "/home/brechtl/miniconda3/envs/aiframeworks/lib/python3.10/site-packages/scipy/__init__.py:146: UserWarning: A NumPy version >=1.16.5 and <1.23.0 is required for this version of SciPy (detected version 1.23.1\n",
      "  warnings.warn(f\"A NumPy version >={np_minversion} and <{np_maxversion}\"\n"
     ]
    }
   ],
   "source": [
    "# Imports\n",
    "import numpy as np\n",
    "import pandas as pd\n",
    "import matplotlib.pyplot as plt\n",
    "import time\n",
    "\n",
    "from sklearn.model_selection import train_test_split\n",
    "from sklearn.preprocessing import StandardScaler\n",
    "from sklearn.metrics import mean_absolute_error, mean_squared_error, r2_score\n",
    "from sklearn.decomposition import PCA\n",
    "from sklearn.model_selection import GridSearchCV\n",
    "\n",
    "from sklearn.dummy import DummyRegressor\n",
    "from sklearn.svm import SVR"
   ]
  },
  {
   "cell_type": "markdown",
   "id": "c8ae5835",
   "metadata": {},
   "source": [
    "### Load dataset"
   ]
  },
  {
   "cell_type": "code",
   "execution_count": 2,
   "id": "ecbc5bd8",
   "metadata": {},
   "outputs": [
    {
     "data": {
      "text/html": [
       "<div>\n",
       "<style scoped>\n",
       "    .dataframe tbody tr th:only-of-type {\n",
       "        vertical-align: middle;\n",
       "    }\n",
       "\n",
       "    .dataframe tbody tr th {\n",
       "        vertical-align: top;\n",
       "    }\n",
       "\n",
       "    .dataframe thead th {\n",
       "        text-align: right;\n",
       "    }\n",
       "</style>\n",
       "<table border=\"1\" class=\"dataframe\">\n",
       "  <thead>\n",
       "    <tr style=\"text-align: right;\">\n",
       "      <th></th>\n",
       "      <th>Grade</th>\n",
       "      <th>Year</th>\n",
       "      <th>Number Tested</th>\n",
       "      <th>Mean Scale Score</th>\n",
       "      <th>Num Level 1</th>\n",
       "      <th>Pct Level 1</th>\n",
       "      <th>Num Level 2</th>\n",
       "      <th>Pct Level 2</th>\n",
       "      <th>Num Level 3</th>\n",
       "      <th>Pct Level 3</th>\n",
       "      <th>Num Level 4</th>\n",
       "      <th>Pct Level 4</th>\n",
       "      <th>District Number</th>\n",
       "      <th>Borough Number</th>\n",
       "      <th>School Number</th>\n",
       "    </tr>\n",
       "  </thead>\n",
       "  <tbody>\n",
       "    <tr>\n",
       "      <th>0</th>\n",
       "      <td>3</td>\n",
       "      <td>2006</td>\n",
       "      <td>39</td>\n",
       "      <td>667</td>\n",
       "      <td>2</td>\n",
       "      <td>5.1</td>\n",
       "      <td>11</td>\n",
       "      <td>28.2</td>\n",
       "      <td>20</td>\n",
       "      <td>51.3</td>\n",
       "      <td>6</td>\n",
       "      <td>15.4</td>\n",
       "      <td>1</td>\n",
       "      <td>0</td>\n",
       "      <td>15</td>\n",
       "    </tr>\n",
       "    <tr>\n",
       "      <th>1</th>\n",
       "      <td>3</td>\n",
       "      <td>2007</td>\n",
       "      <td>31</td>\n",
       "      <td>672</td>\n",
       "      <td>2</td>\n",
       "      <td>6.5</td>\n",
       "      <td>3</td>\n",
       "      <td>9.7</td>\n",
       "      <td>22</td>\n",
       "      <td>71.0</td>\n",
       "      <td>4</td>\n",
       "      <td>12.9</td>\n",
       "      <td>1</td>\n",
       "      <td>0</td>\n",
       "      <td>15</td>\n",
       "    </tr>\n",
       "    <tr>\n",
       "      <th>2</th>\n",
       "      <td>3</td>\n",
       "      <td>2008</td>\n",
       "      <td>37</td>\n",
       "      <td>668</td>\n",
       "      <td>0</td>\n",
       "      <td>0.0</td>\n",
       "      <td>6</td>\n",
       "      <td>16.2</td>\n",
       "      <td>29</td>\n",
       "      <td>78.4</td>\n",
       "      <td>2</td>\n",
       "      <td>5.4</td>\n",
       "      <td>1</td>\n",
       "      <td>0</td>\n",
       "      <td>15</td>\n",
       "    </tr>\n",
       "    <tr>\n",
       "      <th>3</th>\n",
       "      <td>3</td>\n",
       "      <td>2009</td>\n",
       "      <td>33</td>\n",
       "      <td>668</td>\n",
       "      <td>0</td>\n",
       "      <td>0.0</td>\n",
       "      <td>4</td>\n",
       "      <td>12.1</td>\n",
       "      <td>28</td>\n",
       "      <td>84.8</td>\n",
       "      <td>1</td>\n",
       "      <td>3.0</td>\n",
       "      <td>1</td>\n",
       "      <td>0</td>\n",
       "      <td>15</td>\n",
       "    </tr>\n",
       "    <tr>\n",
       "      <th>4</th>\n",
       "      <td>3</td>\n",
       "      <td>2010</td>\n",
       "      <td>26</td>\n",
       "      <td>677</td>\n",
       "      <td>6</td>\n",
       "      <td>23.1</td>\n",
       "      <td>12</td>\n",
       "      <td>46.2</td>\n",
       "      <td>6</td>\n",
       "      <td>23.1</td>\n",
       "      <td>2</td>\n",
       "      <td>7.7</td>\n",
       "      <td>1</td>\n",
       "      <td>0</td>\n",
       "      <td>15</td>\n",
       "    </tr>\n",
       "    <tr>\n",
       "      <th>...</th>\n",
       "      <td>...</td>\n",
       "      <td>...</td>\n",
       "      <td>...</td>\n",
       "      <td>...</td>\n",
       "      <td>...</td>\n",
       "      <td>...</td>\n",
       "      <td>...</td>\n",
       "      <td>...</td>\n",
       "      <td>...</td>\n",
       "      <td>...</td>\n",
       "      <td>...</td>\n",
       "      <td>...</td>\n",
       "      <td>...</td>\n",
       "      <td>...</td>\n",
       "      <td>...</td>\n",
       "    </tr>\n",
       "    <tr>\n",
       "      <th>25386</th>\n",
       "      <td>8</td>\n",
       "      <td>2008</td>\n",
       "      <td>36</td>\n",
       "      <td>567</td>\n",
       "      <td>34</td>\n",
       "      <td>94.4</td>\n",
       "      <td>2</td>\n",
       "      <td>5.6</td>\n",
       "      <td>0</td>\n",
       "      <td>0.0</td>\n",
       "      <td>0</td>\n",
       "      <td>0.0</td>\n",
       "      <td>75</td>\n",
       "      <td>1</td>\n",
       "      <td>723</td>\n",
       "    </tr>\n",
       "    <tr>\n",
       "      <th>25387</th>\n",
       "      <td>8</td>\n",
       "      <td>2009</td>\n",
       "      <td>31</td>\n",
       "      <td>597</td>\n",
       "      <td>18</td>\n",
       "      <td>58.1</td>\n",
       "      <td>13</td>\n",
       "      <td>41.9</td>\n",
       "      <td>0</td>\n",
       "      <td>0.0</td>\n",
       "      <td>0</td>\n",
       "      <td>0.0</td>\n",
       "      <td>75</td>\n",
       "      <td>1</td>\n",
       "      <td>723</td>\n",
       "    </tr>\n",
       "    <tr>\n",
       "      <th>25388</th>\n",
       "      <td>8</td>\n",
       "      <td>2010</td>\n",
       "      <td>38</td>\n",
       "      <td>598</td>\n",
       "      <td>32</td>\n",
       "      <td>84.2</td>\n",
       "      <td>6</td>\n",
       "      <td>15.8</td>\n",
       "      <td>0</td>\n",
       "      <td>0.0</td>\n",
       "      <td>0</td>\n",
       "      <td>0.0</td>\n",
       "      <td>75</td>\n",
       "      <td>1</td>\n",
       "      <td>723</td>\n",
       "    </tr>\n",
       "    <tr>\n",
       "      <th>25389</th>\n",
       "      <td>8</td>\n",
       "      <td>2011</td>\n",
       "      <td>32</td>\n",
       "      <td>595</td>\n",
       "      <td>24</td>\n",
       "      <td>75.0</td>\n",
       "      <td>7</td>\n",
       "      <td>21.9</td>\n",
       "      <td>1</td>\n",
       "      <td>3.1</td>\n",
       "      <td>0</td>\n",
       "      <td>0.0</td>\n",
       "      <td>75</td>\n",
       "      <td>1</td>\n",
       "      <td>723</td>\n",
       "    </tr>\n",
       "    <tr>\n",
       "      <th>25390</th>\n",
       "      <td>8</td>\n",
       "      <td>2012</td>\n",
       "      <td>17</td>\n",
       "      <td>632</td>\n",
       "      <td>8</td>\n",
       "      <td>47.1</td>\n",
       "      <td>9</td>\n",
       "      <td>52.9</td>\n",
       "      <td>0</td>\n",
       "      <td>0.0</td>\n",
       "      <td>0</td>\n",
       "      <td>0.0</td>\n",
       "      <td>75</td>\n",
       "      <td>1</td>\n",
       "      <td>723</td>\n",
       "    </tr>\n",
       "  </tbody>\n",
       "</table>\n",
       "<p>25391 rows × 15 columns</p>\n",
       "</div>"
      ],
      "text/plain": [
       "       Grade  Year  Number Tested  Mean Scale Score  Num Level 1  Pct Level 1  \\\n",
       "0          3  2006             39               667            2          5.1   \n",
       "1          3  2007             31               672            2          6.5   \n",
       "2          3  2008             37               668            0          0.0   \n",
       "3          3  2009             33               668            0          0.0   \n",
       "4          3  2010             26               677            6         23.1   \n",
       "...      ...   ...            ...               ...          ...          ...   \n",
       "25386      8  2008             36               567           34         94.4   \n",
       "25387      8  2009             31               597           18         58.1   \n",
       "25388      8  2010             38               598           32         84.2   \n",
       "25389      8  2011             32               595           24         75.0   \n",
       "25390      8  2012             17               632            8         47.1   \n",
       "\n",
       "       Num Level 2  Pct Level 2  Num Level 3  Pct Level 3  Num Level 4  \\\n",
       "0               11         28.2           20         51.3            6   \n",
       "1                3          9.7           22         71.0            4   \n",
       "2                6         16.2           29         78.4            2   \n",
       "3                4         12.1           28         84.8            1   \n",
       "4               12         46.2            6         23.1            2   \n",
       "...            ...          ...          ...          ...          ...   \n",
       "25386            2          5.6            0          0.0            0   \n",
       "25387           13         41.9            0          0.0            0   \n",
       "25388            6         15.8            0          0.0            0   \n",
       "25389            7         21.9            1          3.1            0   \n",
       "25390            9         52.9            0          0.0            0   \n",
       "\n",
       "       Pct Level 4  District Number  Borough Number  School Number  \n",
       "0             15.4                1               0             15  \n",
       "1             12.9                1               0             15  \n",
       "2              5.4                1               0             15  \n",
       "3              3.0                1               0             15  \n",
       "4              7.7                1               0             15  \n",
       "...            ...              ...             ...            ...  \n",
       "25386          0.0               75               1            723  \n",
       "25387          0.0               75               1            723  \n",
       "25388          0.0               75               1            723  \n",
       "25389          0.0               75               1            723  \n",
       "25390          0.0               75               1            723  \n",
       "\n",
       "[25391 rows x 15 columns]"
      ]
     },
     "execution_count": 2,
     "metadata": {},
     "output_type": "execute_result"
    }
   ],
   "source": [
    "# Load and show data\n",
    "math_df = pd.read_csv('../Data/Math_Test_Results_Cleaned.csv')\n",
    "math_df"
   ]
  },
  {
   "cell_type": "markdown",
   "id": "6733e8ec",
   "metadata": {},
   "source": [
    "X -> features  \n",
    "y -> labels"
   ]
  },
  {
   "cell_type": "code",
   "execution_count": 3,
   "id": "a5bc428a",
   "metadata": {},
   "outputs": [],
   "source": [
    "X = math_df.drop('Mean Scale Score', axis=1)\n",
    "y = math_df['Mean Scale Score']"
   ]
  },
  {
   "cell_type": "markdown",
   "id": "1dfdd0fd",
   "metadata": {},
   "source": [
    "### Data splitting\n",
    "First of all, let's split the data into train and test data"
   ]
  },
  {
   "cell_type": "code",
   "execution_count": 4,
   "id": "714c2a6b",
   "metadata": {},
   "outputs": [],
   "source": [
    "X_train, X_test, y_train, y_test = train_test_split(X, y, test_size = 0.2, random_state = 1)"
   ]
  },
  {
   "cell_type": "markdown",
   "id": "b4cd5140",
   "metadata": {},
   "source": [
    "### Scaling\n",
    "Next I will normalize the data  \n",
    "Only apply a fit transform on the train data to prevent leakage in the model\n",
    "I'm not going to scale the labels now but could do this if it returns a better result"
   ]
  },
  {
   "cell_type": "code",
   "execution_count": 5,
   "id": "101c4e43",
   "metadata": {},
   "outputs": [],
   "source": [
    "scaler = StandardScaler()\n",
    "X_train = scaler.fit_transform(X_train)\n",
    "X_test = scaler.transform(X_test)"
   ]
  },
  {
   "cell_type": "markdown",
   "id": "2bd1b2db",
   "metadata": {},
   "source": [
    "### Train the SVR model\n",
    "I am also printing the training time for this model.  \n",
    "This can be used for comparing different models or modifications to the model later on."
   ]
  },
  {
   "cell_type": "code",
   "execution_count": 6,
   "id": "c3e2aae3",
   "metadata": {},
   "outputs": [
    {
     "name": "stdout",
     "output_type": "stream",
     "text": [
      "Training time: 20.620142936706543s\n"
     ]
    }
   ],
   "source": [
    "svr = SVR(kernel = 'rbf')\n",
    "\n",
    "start = time.time()\n",
    "svr.fit(X_train, y_train)\n",
    "stop = time.time()\n",
    "print(f\"Training time: {stop - start}s\")"
   ]
  },
  {
   "cell_type": "code",
   "execution_count": 7,
   "id": "874337ff",
   "metadata": {},
   "outputs": [
    {
     "data": {
      "text/plain": [
       "(20312, 14)"
      ]
     },
     "execution_count": 7,
     "metadata": {},
     "output_type": "execute_result"
    }
   ],
   "source": [
    "X_train.shape"
   ]
  },
  {
   "cell_type": "markdown",
   "id": "0eef14ae",
   "metadata": {},
   "source": [
    "I will also make u function to print out some metrics to rate a model performance"
   ]
  },
  {
   "cell_type": "code",
   "execution_count": 8,
   "id": "28604626",
   "metadata": {},
   "outputs": [],
   "source": [
    "def print_results(y_predicted):\n",
    "    mse = mean_squared_error(y_test, y_predicted)\n",
    "    mae = mean_absolute_error(y_test, y_predicted)\n",
    "    r2 = r2_score(y_test, y_predicted)\n",
    "\n",
    "    print(f\"MAE: {mae}\")\n",
    "    print(f\"MSE: {mse}\")\n",
    "    print(f\"R2-score: {r2}\")"
   ]
  },
  {
   "cell_type": "markdown",
   "id": "e794beed",
   "metadata": {},
   "source": [
    "### Dummy model\n",
    "Before I'm going to look at the results and make any model performance assumptions, I will need a basic model to compare to.  \n",
    "This is a dummy model that always return the mean of the same mean of the labels.  \n",
    "Every model should perform better than this one because it's just the mean.  "
   ]
  },
  {
   "cell_type": "code",
   "execution_count": 9,
   "id": "dad22a52",
   "metadata": {},
   "outputs": [
    {
     "data": {
      "text/html": [
       "<style>#sk-container-id-1 {color: black;background-color: white;}#sk-container-id-1 pre{padding: 0;}#sk-container-id-1 div.sk-toggleable {background-color: white;}#sk-container-id-1 label.sk-toggleable__label {cursor: pointer;display: block;width: 100%;margin-bottom: 0;padding: 0.3em;box-sizing: border-box;text-align: center;}#sk-container-id-1 label.sk-toggleable__label-arrow:before {content: \"▸\";float: left;margin-right: 0.25em;color: #696969;}#sk-container-id-1 label.sk-toggleable__label-arrow:hover:before {color: black;}#sk-container-id-1 div.sk-estimator:hover label.sk-toggleable__label-arrow:before {color: black;}#sk-container-id-1 div.sk-toggleable__content {max-height: 0;max-width: 0;overflow: hidden;text-align: left;background-color: #f0f8ff;}#sk-container-id-1 div.sk-toggleable__content pre {margin: 0.2em;color: black;border-radius: 0.25em;background-color: #f0f8ff;}#sk-container-id-1 input.sk-toggleable__control:checked~div.sk-toggleable__content {max-height: 200px;max-width: 100%;overflow: auto;}#sk-container-id-1 input.sk-toggleable__control:checked~label.sk-toggleable__label-arrow:before {content: \"▾\";}#sk-container-id-1 div.sk-estimator input.sk-toggleable__control:checked~label.sk-toggleable__label {background-color: #d4ebff;}#sk-container-id-1 div.sk-label input.sk-toggleable__control:checked~label.sk-toggleable__label {background-color: #d4ebff;}#sk-container-id-1 input.sk-hidden--visually {border: 0;clip: rect(1px 1px 1px 1px);clip: rect(1px, 1px, 1px, 1px);height: 1px;margin: -1px;overflow: hidden;padding: 0;position: absolute;width: 1px;}#sk-container-id-1 div.sk-estimator {font-family: monospace;background-color: #f0f8ff;border: 1px dotted black;border-radius: 0.25em;box-sizing: border-box;margin-bottom: 0.5em;}#sk-container-id-1 div.sk-estimator:hover {background-color: #d4ebff;}#sk-container-id-1 div.sk-parallel-item::after {content: \"\";width: 100%;border-bottom: 1px solid gray;flex-grow: 1;}#sk-container-id-1 div.sk-label:hover label.sk-toggleable__label {background-color: #d4ebff;}#sk-container-id-1 div.sk-serial::before {content: \"\";position: absolute;border-left: 1px solid gray;box-sizing: border-box;top: 0;bottom: 0;left: 50%;z-index: 0;}#sk-container-id-1 div.sk-serial {display: flex;flex-direction: column;align-items: center;background-color: white;padding-right: 0.2em;padding-left: 0.2em;position: relative;}#sk-container-id-1 div.sk-item {position: relative;z-index: 1;}#sk-container-id-1 div.sk-parallel {display: flex;align-items: stretch;justify-content: center;background-color: white;position: relative;}#sk-container-id-1 div.sk-item::before, #sk-container-id-1 div.sk-parallel-item::before {content: \"\";position: absolute;border-left: 1px solid gray;box-sizing: border-box;top: 0;bottom: 0;left: 50%;z-index: -1;}#sk-container-id-1 div.sk-parallel-item {display: flex;flex-direction: column;z-index: 1;position: relative;background-color: white;}#sk-container-id-1 div.sk-parallel-item:first-child::after {align-self: flex-end;width: 50%;}#sk-container-id-1 div.sk-parallel-item:last-child::after {align-self: flex-start;width: 50%;}#sk-container-id-1 div.sk-parallel-item:only-child::after {width: 0;}#sk-container-id-1 div.sk-dashed-wrapped {border: 1px dashed gray;margin: 0 0.4em 0.5em 0.4em;box-sizing: border-box;padding-bottom: 0.4em;background-color: white;}#sk-container-id-1 div.sk-label label {font-family: monospace;font-weight: bold;display: inline-block;line-height: 1.2em;}#sk-container-id-1 div.sk-label-container {text-align: center;}#sk-container-id-1 div.sk-container {/* jupyter's `normalize.less` sets `[hidden] { display: none; }` but bootstrap.min.css set `[hidden] { display: none !important; }` so we also need the `!important` here to be able to override the default hidden behavior on the sphinx rendered scikit-learn.org. See: https://github.com/scikit-learn/scikit-learn/issues/21755 */display: inline-block !important;position: relative;}#sk-container-id-1 div.sk-text-repr-fallback {display: none;}</style><div id=\"sk-container-id-1\" class=\"sk-top-container\"><div class=\"sk-text-repr-fallback\"><pre>DummyRegressor()</pre><b>In a Jupyter environment, please rerun this cell to show the HTML representation or trust the notebook. <br />On GitHub, the HTML representation is unable to render, please try loading this page with nbviewer.org.</b></div><div class=\"sk-container\" hidden><div class=\"sk-item\"><div class=\"sk-estimator sk-toggleable\"><input class=\"sk-toggleable__control sk-hidden--visually\" id=\"sk-estimator-id-1\" type=\"checkbox\" checked><label for=\"sk-estimator-id-1\" class=\"sk-toggleable__label sk-toggleable__label-arrow\">DummyRegressor</label><div class=\"sk-toggleable__content\"><pre>DummyRegressor()</pre></div></div></div></div></div>"
      ],
      "text/plain": [
       "DummyRegressor()"
      ]
     },
     "execution_count": 9,
     "metadata": {},
     "output_type": "execute_result"
    }
   ],
   "source": [
    "dummy_regr = DummyRegressor(strategy=\"mean\")\n",
    "dummy_regr.fit(X_train, y_train)"
   ]
  },
  {
   "cell_type": "markdown",
   "id": "40930d3f",
   "metadata": {},
   "source": [
    "As you can see, the r2 score is very close to 0.  \n",
    "This means that there is no variance explained in the model!"
   ]
  },
  {
   "cell_type": "code",
   "execution_count": 10,
   "id": "2a5fe150",
   "metadata": {},
   "outputs": [
    {
     "name": "stdout",
     "output_type": "stream",
     "text": [
      "MAE: 18.084275613483413\n",
      "MSE: 550.5645213553786\n",
      "R2-score: -1.5951400795799486e-06\n"
     ]
    }
   ],
   "source": [
    "y_pred = dummy_regr.predict(X_test)\n",
    "print_results(y_pred)"
   ]
  },
  {
   "cell_type": "markdown",
   "id": "d0d31318",
   "metadata": {},
   "source": [
    "### Results\n",
    "These are the result "
   ]
  },
  {
   "cell_type": "code",
   "execution_count": 11,
   "id": "8a102519",
   "metadata": {},
   "outputs": [
    {
     "data": {
      "text/plain": [
       "array([706.22803684, 668.88315107, 633.83926227, ..., 667.92413375,\n",
       "       700.53796027, 664.05937793])"
      ]
     },
     "execution_count": 11,
     "metadata": {},
     "output_type": "execute_result"
    }
   ],
   "source": [
    "y_pred = svr.predict(X_test)\n",
    "y_pred"
   ]
  },
  {
   "cell_type": "code",
   "execution_count": 12,
   "id": "29510742",
   "metadata": {},
   "outputs": [
    {
     "name": "stdout",
     "output_type": "stream",
     "text": [
      "15000    710\n",
      "17038    666\n",
      "3439     633\n",
      "8659     673\n",
      "21743    672\n",
      "Name: Mean Scale Score, dtype: int64\n",
      "0    706.228037\n",
      "1    668.883151\n",
      "2    633.839262\n",
      "3    676.453782\n",
      "4    665.933920\n",
      "dtype: float64\n"
     ]
    }
   ],
   "source": [
    "print(y_test.head())\n",
    "print(pd.Series(y_pred).head())"
   ]
  },
  {
   "cell_type": "markdown",
   "id": "4f271a09",
   "metadata": {},
   "source": [
    "The average error is pretty low and we can see that this is already a pretty good model.  \n",
    "The MSE is also much lower than the dummy model but I think we can still make this better!  \n",
    "We did not tune any hyperparameters or applied feature reduction for the data."
   ]
  },
  {
   "cell_type": "code",
   "execution_count": 13,
   "id": "4ab3c251",
   "metadata": {},
   "outputs": [
    {
     "name": "stdout",
     "output_type": "stream",
     "text": [
      "MAE: 3.181354308722017\n",
      "MSE: 24.272966261007497\n",
      "R2-score: 0.9559125151761803\n"
     ]
    }
   ],
   "source": [
    "print_results(y_pred)"
   ]
  },
  {
   "cell_type": "markdown",
   "id": "ab88cb77",
   "metadata": {},
   "source": [
    "### Feature reduction (PCA)\n",
    "PCA is not always useful and this is not very high dimensional data but let's give it a try.  \n",
    "This first function prints the cumulative amount of variance that is explained for every PCA feature."
   ]
  },
  {
   "cell_type": "code",
   "execution_count": 14,
   "id": "e0c2596a",
   "metadata": {},
   "outputs": [
    {
     "name": "stdout",
     "output_type": "stream",
     "text": [
      "[0.25236854 0.48492623 0.61481974 0.71769838 0.7981707  0.86859002\n",
      " 0.91189747 0.9486366  0.97516428 0.98778364 0.9958532  0.99999978\n",
      " 1.         1.        ]\n"
     ]
    }
   ],
   "source": [
    "pca = PCA()\n",
    "pca.fit(X_train)\n",
    "print(np.cumsum(pca.explained_variance_ratio_))"
   ]
  },
  {
   "cell_type": "markdown",
   "id": "9f1da23c",
   "metadata": {},
   "source": [
    "Let's draw this in a plot to make it more clear how many components we should keep"
   ]
  },
  {
   "cell_type": "code",
   "execution_count": 15,
   "id": "95df3742",
   "metadata": {},
   "outputs": [
    {
     "data": {
      "image/png": "[encoded data removed]",
      "text/plain": [
       "<Figure size 432x288 with 1 Axes>"
      ]
     },
     "metadata": {
      "needs_background": "light"
     },
     "output_type": "display_data"
    }
   ],
   "source": [
    "ex_var = np.cumsum(pca.explained_variance_ratio_)\n",
    "plt.plot(ex_var)\n",
    "plt.xlabel('# of components')\n",
    "plt.ylabel('cumulative explained variance');\n",
    "plt.xticks(np.arange(len(ex_var)), np.arange(1, len(ex_var)+1))\n",
    "plt.grid()\n",
    "plt.show()"
   ]
  },
  {
   "cell_type": "markdown",
   "id": "50717f7d",
   "metadata": {},
   "source": [
    "As you can see, if we want to keep at least 90% variance, we should use 7 components.  \n",
    "I will make a loop to find the best number of components I should use.  \n",
    "I will look at the MAE and the training time for some combinations."
   ]
  },
  {
   "cell_type": "code",
   "execution_count": 16,
   "id": "06613730",
   "metadata": {},
   "outputs": [
    {
     "name": "stdout",
     "output_type": "stream",
     "text": [
      "19.016291856765747s - MAE for 5 PCA components: 3.7459847688826615\n",
      "19.54123044013977s - MAE for 6 PCA components: 3.577037740660306\n",
      "18.949521780014038s - MAE for 7 PCA components: 3.222861274885023\n",
      "18.01684880256653s - MAE for 8 PCA components: 3.1632919116103784\n",
      "19.625747680664062s - MAE for 9 PCA components: 3.1584856099114904\n",
      "19.394896507263184s - MAE for 10 PCA components: 3.15759475990764\n"
     ]
    }
   ],
   "source": [
    "components = [5,6,7,8,9,10]\n",
    "\n",
    "for component in components: \n",
    "    pca = PCA(n_components=component)\n",
    "    pca_train = pca.fit(X_train)\n",
    "\n",
    "    X_train_pca = pca_train.transform(X_train)\n",
    "    X_test_pca = pca_train.transform(X_test)\n",
    "    \n",
    "    start = time.time()\n",
    "    svr.fit(X_train_pca, y_train)\n",
    "    stop = time.time()\n",
    "    y_pred = svr.predict(X_test_pca)\n",
    "    \n",
    "    mae = mean_absolute_error(y_test, y_pred)\n",
    "    print(f\"{stop - start}s - MAE for {component} PCA components: {mae}\")"
   ]
  },
  {
   "cell_type": "markdown",
   "id": "a508c55b",
   "metadata": {},
   "source": [
    "When using 8 or more components, the MAE becomes even smaller than without PCA so the model should perform better than before.  \n",
    "The model becomes less complex than the original one and this can prevent overfitting + better perfromance on the test set.  \n",
    "This is not always the case but in this example, it is!  \n",
    "\n",
    "When looking at the results, I would use 8 components.  \n",
    "Let's convert the data now"
   ]
  },
  {
   "cell_type": "code",
   "execution_count": 17,
   "id": "0148f2cf",
   "metadata": {},
   "outputs": [],
   "source": [
    "pca = PCA(n_components=8)\n",
    "pca_train = pca.fit(X_train)\n",
    "\n",
    "X_train = pca_train.transform(X_train)\n",
    "X_test = pca_train.transform(X_test)\n",
    "\n",
    "svr.fit(X_train, y_train)\n",
    "y_pred = svr.predict(X_test)"
   ]
  },
  {
   "cell_type": "code",
   "execution_count": 18,
   "id": "807ddea4",
   "metadata": {},
   "outputs": [
    {
     "name": "stdout",
     "output_type": "stream",
     "text": [
      "MAE: 3.1632919116103793\n",
      "MSE: 23.056530220119264\n",
      "R2-score: 0.9581219528244317\n"
     ]
    }
   ],
   "source": [
    "print_results(y_pred)"
   ]
  },
  {
   "cell_type": "markdown",
   "id": "43cc69a0",
   "metadata": {},
   "source": [
    "### Hyperparameter tuning\n",
    "\n",
    "This info about the parameters is found on the Sklearn documentation:  \n",
    "\n",
    "__C__ -> Regularization parameter. The strength of the regularization is inversely proportional to C. Must be strictly positive. The penalty is a squared l2 penalty.\n",
    "__gamma__ -> Kernel coefficient for ‘rbf’, ‘poly’ and ‘sigmoid’.\n",
    "\n",
    "Large C means large penalty for misclassification. Small C means small penalty. High C == likely to overfit!  \n",
    "Gamma defines how far the influence of a single training example reaches. Low epsilon means far influence.\n",
    "\n",
    "This grid search also makes use of cross-validation with 5 folds to prevent over-fitting.  \n",
    "Because we only have 8 features, the RBF kernel would be the best choice but let's see!  "
   ]
  },
  {
   "cell_type": "code",
   "execution_count": 19,
   "id": "9f4a144b",
   "metadata": {
    "scrolled": true
   },
   "outputs": [],
   "source": [
    "parameters=[\n",
    "    {'C': [1,10,100],\n",
    "     'kernel':['rbf'],\n",
    "     'gamma': [0.001, 0.01, 0.1, 0.5, 0.8]}\n",
    "]\n",
    "\n",
    "svr = SVR()\n",
    "# grid_search = GridSearchCV(estimator=svr,\n",
    "#                            param_grid=parameters,\n",
    "#                            cv=5,\n",
    "#                            verbose=2)\n",
    "\n",
    "# grid_search.fit(X_train,y_train)\n",
    "\n",
    "# print(grid_search.best_estimator_)\n",
    "# print(grid_search.best_params_)"
   ]
  },
  {
   "cell_type": "markdown",
   "id": "d5185d0c",
   "metadata": {},
   "source": [
    "The result from this grid search is  \n",
    "SVR(C=100, gamma=0.1)  \n",
    "{'C': 100, 'gamma': 0.1, 'kernel': 'rbf'}  \n",
    "\n",
    "When looking back at the parameters, I should increase the C value a bit more because it picked the maximum value.  \n",
    "I will try to make a model with the current parameters first."
   ]
  },
  {
   "cell_type": "code",
   "execution_count": 20,
   "id": "a6125072",
   "metadata": {},
   "outputs": [
    {
     "name": "stdout",
     "output_type": "stream",
     "text": [
      "Training time: 92.75571084022522s\n",
      "MAE: 2.3262993597174457\n",
      "MSE: 11.164650740070924\n",
      "R2-score: 0.9797214166256706\n"
     ]
    }
   ],
   "source": [
    "svr = SVR(kernel = 'rbf', C=100, gamma=0.1)\n",
    "\n",
    "start = time.time()\n",
    "svr.fit(X_train, y_train)\n",
    "stop = time.time()\n",
    "print(f\"Training time: {stop - start}s\")\n",
    "\n",
    "y_pred = svr.predict(X_test)\n",
    "print_results(y_pred)"
   ]
  },
  {
   "cell_type": "markdown",
   "id": "349ac767",
   "metadata": {},
   "source": [
    "As you can see, the MAE is getting very good and the R2-score has reached almost '98%'  \n",
    "Let's try to do the grid search one more time with some different variables to get the best result possible for this model!"
   ]
  },
  {
   "cell_type": "code",
   "execution_count": 21,
   "id": "fb151b61",
   "metadata": {
    "scrolled": true
   },
   "outputs": [],
   "source": [
    "parameters=[\n",
    "    {'C': [10,100, 1000],\n",
    "     'kernel':['rbf'],\n",
    "     'gamma': [0.05, 0.1, 0.2]}\n",
    "]\n",
    "\n",
    "svr = SVR()\n",
    "# grid_search = GridSearchCV(estimator=svr,\n",
    "#                            param_grid=parameters,\n",
    "#                            cv=5,\n",
    "#                            verbose=2)\n",
    "\n",
    "# grid_search.fit(X_train,y_train)\n",
    "\n",
    "# print(grid_search.best_estimator_)\n",
    "# print(grid_search.best_params_)"
   ]
  },
  {
   "cell_type": "markdown",
   "id": "c2765d59",
   "metadata": {},
   "source": [
    "Results:  \n",
    "SVR(C=1000, gamma=0.05)  \n",
    "{'C': 1000, 'gamma': 0.05, 'kernel': 'rbf'}\n",
    "\n",
    "As you can see the C parameter got the max value again but it took a long time to train so let's keep it at 1000 and not increase it anymore.  \n",
    "I will train a new model with these new parameters:  "
   ]
  },
  {
   "cell_type": "code",
   "execution_count": 22,
   "id": "a59f9fb8",
   "metadata": {},
   "outputs": [
    {
     "name": "stdout",
     "output_type": "stream",
     "text": [
      "Training time: 451.54140734672546s\n",
      "MAE: 2.347010821551722\n",
      "MSE: 11.315557528848034\n",
      "R2-score: 0.9794473215402788\n"
     ]
    }
   ],
   "source": [
    "svr = SVR(kernel = 'rbf', C=1000, gamma=0.05)\n",
    "\n",
    "start = time.time()\n",
    "svr.fit(X_train, y_train)\n",
    "stop = time.time()\n",
    "print(f\"Training time: {stop - start}s\")\n",
    "\n",
    "y_pred = svr.predict(X_test)\n",
    "print_results(y_pred)"
   ]
  },
  {
   "cell_type": "markdown",
   "id": "6f96b974",
   "metadata": {},
   "source": [
    "It took 5 times longer to train and it achieved almost the same accuracy and MAE.  \n",
    "Because of that, I prefer the first model opposite of this model.  "
   ]
  },
  {
   "cell_type": "markdown",
   "id": "3094c0b0",
   "metadata": {},
   "source": [
    "### Final result visualising\n",
    "I will get the right prediction values back from the best model:"
   ]
  },
  {
   "cell_type": "code",
   "execution_count": 23,
   "id": "0452a5d6",
   "metadata": {},
   "outputs": [],
   "source": [
    "svr = SVR(kernel = 'rbf', C=100, gamma=0.1)\n",
    "svr.fit(X_train, y_train)\n",
    "y_pred = svr.predict(X_test)"
   ]
  },
  {
   "cell_type": "code",
   "execution_count": 24,
   "id": "4361f2bc",
   "metadata": {},
   "outputs": [
    {
     "data": {
      "text/plain": [
       "array([710.28838828, 667.66533595, 634.98639621, ..., 666.5317855 ,\n",
       "       699.17457601, 664.77456776])"
      ]
     },
     "execution_count": 24,
     "metadata": {},
     "output_type": "execute_result"
    }
   ],
   "source": [
    "y_pred"
   ]
  },
  {
   "cell_type": "markdown",
   "id": "fa709636",
   "metadata": {},
   "source": [
    "And now visualise the results  \n",
    "The red line shows the perfect prediction and the dots are my predictions"
   ]
  },
  {
   "cell_type": "code",
   "execution_count": 25,
   "id": "aeab37cd",
   "metadata": {},
   "outputs": [
    {
     "data": {
      "image/png": "[encoded data removed]",
      "text/plain": [
       "<Figure size 432x288 with 1 Axes>"
      ]
     },
     "metadata": {
      "needs_background": "light"
     },
     "output_type": "display_data"
    }
   ],
   "source": [
    "fig, ax = plt.subplots()\n",
    "ax.scatter(y_test, y_pred, edgecolors='black')\n",
    "ax.plot([y.min(), y.max()], [y.min(), y.max()], 'r--', lw=2)\n",
    "ax.set_xlabel('Measured')\n",
    "ax.set_ylabel('Predicted')\n",
    "plt.show()"
   ]
  },
  {
   "cell_type": "markdown",
   "id": "20882019",
   "metadata": {},
   "source": [
    "My final model has a R2-score of 0.98% and MSE of 11.16  \n",
    "This is much higher than I expected so let's keep it there!  \n",
    "I will export this model to use it in production"
   ]
  },
  {
   "cell_type": "markdown",
   "id": "9db5d03b",
   "metadata": {},
   "source": [
    "### Creating a pipeline\n",
    "Let's first look at the full pipeline.  \n",
    "I standardized and applied PCA to the data as preprocessing.  \n",
    "Than, I trained a SVR model and made my predictions.  \n",
    "I will not only export the model but I will need those preprocessing steps as well to make predictions on new data."
   ]
  },
  {
   "cell_type": "code",
   "execution_count": 40,
   "id": "0571a720",
   "metadata": {},
   "outputs": [],
   "source": [
    "from sklearn.pipeline import Pipeline\n",
    "\n",
    "pipeline = Pipeline([\n",
    "      ('scaler', StandardScaler()),\n",
    "      (\"pca\", PCA(n_components=8)),\n",
    "      ('regression', SVR(kernel = 'rbf', C=100, gamma=0.1))\n",
    "    ])"
   ]
  },
  {
   "cell_type": "markdown",
   "id": "5cad1e75",
   "metadata": {},
   "source": [
    "The data needs to be reloaded for this full pipeline retrain."
   ]
  },
  {
   "cell_type": "code",
   "execution_count": 47,
   "id": "bdf34b21",
   "metadata": {},
   "outputs": [],
   "source": [
    "math_df = pd.read_csv('../Data/Math_Test_Results_Cleaned.csv')\n",
    "X = math_df.drop('Mean Scale Score', axis=1)\n",
    "y = math_df['Mean Scale Score']\n",
    "X_train, X_test, y_train, y_test = train_test_split(X, y, test_size = 0.2, random_state = 1)\n",
    "\n",
    "pipeline = pipeline.fit(X_train, y_train)"
   ]
  },
  {
   "cell_type": "code",
   "execution_count": 48,
   "id": "ecbfdba9",
   "metadata": {},
   "outputs": [
    {
     "name": "stdout",
     "output_type": "stream",
     "text": [
      "Testing score:  0.979721351891418\n"
     ]
    }
   ],
   "source": [
    "print('Testing score: ', pipeline.score(X_test, y_test))"
   ]
  },
  {
   "cell_type": "markdown",
   "id": "ea3ecd35",
   "metadata": {},
   "source": [
    "As you can see, this pipeline is just a summary of what I did in this notebook.  \n",
    "It transforms the raw data to a prediction and that's exactly what I need to deploy this model in production"
   ]
  },
  {
   "cell_type": "markdown",
   "id": "9b60af00",
   "metadata": {},
   "source": [
    "### Saving the pipeline"
   ]
  },
  {
   "cell_type": "code",
   "execution_count": 49,
   "id": "55780e4d",
   "metadata": {},
   "outputs": [
    {
     "name": "stdout",
     "output_type": "stream",
     "text": [
      "Model saved!\n"
     ]
    }
   ],
   "source": [
    "import pickle\n",
    "\n",
    "with open('model.pkl', 'wb') as model_file:\n",
    "    pickle.dump(pipeline, model_file)\n",
    "    \n",
    "print(\"Model saved!\")"
   ]
  }
 ],
 "metadata": {
  "kernelspec": {
   "display_name": "aiframeworks",
   "language": "python",
   "name": "aiframeworks"
  },
  "language_info": {
   "codemirror_mode": {
    "name": "ipython",
    "version": 3
   },
   "file_extension": ".py",
   "mimetype": "text/x-python",
   "name": "python",
   "nbconvert_exporter": "python",
   "pygments_lexer": "ipython3",
   "version": "3.10.4"
  },
  "toc": {
   "base_numbering": 1,
   "nav_menu": {},
   "number_sections": true,
   "sideBar": true,
   "skip_h1_title": false,
   "title_cell": "Table of Contents",
   "title_sidebar": "Contents",
   "toc_cell": false,
   "toc_position": {},
   "toc_section_display": true,
   "toc_window_display": false
  }
 },
 "nbformat": 4,
 "nbformat_minor": 5
}
