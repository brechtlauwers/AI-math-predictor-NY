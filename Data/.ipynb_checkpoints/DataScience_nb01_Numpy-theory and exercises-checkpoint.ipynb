{
 "cells": [
  {
   "cell_type": "markdown",
   "id": "ffcc0e84",
   "metadata": {},
   "source": [
    "# Python essentials for Data Science"
   ]
  },
  {
   "cell_type": "markdown",
   "id": "aa556007",
   "metadata": {},
   "source": [
    "## Numpy"
   ]
  },
  {
   "cell_type": "markdown",
   "id": "b8ffcf94",
   "metadata": {},
   "source": [
    "### Array"
   ]
  },
  {
   "cell_type": "markdown",
   "id": "63f5a4f0",
   "metadata": {},
   "source": [
    "Arrays are used to work with vectors, matrices and tensors. The data it contains should all be of the same type (as opposed to, e.g., lists)."
   ]
  },
  {
   "cell_type": "code",
   "execution_count": 1,
   "id": "9a450496",
   "metadata": {},
   "outputs": [],
   "source": [
    "import numpy as np"
   ]
  },
  {
   "cell_type": "code",
   "execution_count": 6,
   "id": "06f474f1",
   "metadata": {},
   "outputs": [],
   "source": [
    "#help(np.array) #Delete the '#' and run to see extra help"
   ]
  },
  {
   "cell_type": "code",
   "execution_count": 7,
   "id": "530a448f",
   "metadata": {},
   "outputs": [
    {
     "name": "stdout",
     "output_type": "stream",
     "text": [
      "[1 2 3]\n"
     ]
    }
   ],
   "source": [
    "arr_1d = np.array((1, 2, 3))\n",
    "print(arr_1d)"
   ]
  },
  {
   "cell_type": "code",
   "execution_count": 8,
   "id": "3bf92b40",
   "metadata": {},
   "outputs": [
    {
     "data": {
      "text/plain": [
       "numpy.ndarray"
      ]
     },
     "execution_count": 8,
     "metadata": {},
     "output_type": "execute_result"
    }
   ],
   "source": [
    "type(arr_1d)"
   ]
  },
  {
   "cell_type": "code",
   "execution_count": 9,
   "id": "aefe299e",
   "metadata": {},
   "outputs": [],
   "source": [
    "#arr_1d. # Delete the first '#', press tab to explore options"
   ]
  },
  {
   "cell_type": "code",
   "execution_count": 10,
   "id": "1809872f",
   "metadata": {},
   "outputs": [
    {
     "data": {
      "text/plain": [
       "(3,)"
      ]
     },
     "execution_count": 10,
     "metadata": {},
     "output_type": "execute_result"
    }
   ],
   "source": [
    "arr_1d.shape"
   ]
  },
  {
   "cell_type": "code",
   "execution_count": 11,
   "id": "bb9f2fab",
   "metadata": {},
   "outputs": [
    {
     "data": {
      "text/plain": [
       "array([[1, 2, 3],\n",
       "       [4, 5, 6],\n",
       "       [7, 8, 9]])"
      ]
     },
     "execution_count": 11,
     "metadata": {},
     "output_type": "execute_result"
    }
   ],
   "source": [
    "arr_2d = np.array([[1, 2, 3], [4, 5, 6], [7, 8, 9]]) \n",
    "arr_2d"
   ]
  },
  {
   "cell_type": "code",
   "execution_count": 12,
   "id": "b4b62153",
   "metadata": {},
   "outputs": [
    {
     "data": {
      "text/plain": [
       "(3, 3)"
      ]
     },
     "execution_count": 12,
     "metadata": {},
     "output_type": "execute_result"
    }
   ],
   "source": [
    "arr_2d.shape"
   ]
  },
  {
   "cell_type": "code",
   "execution_count": 13,
   "id": "a14a5815",
   "metadata": {},
   "outputs": [
    {
     "data": {
      "text/plain": [
       "array([[[1, 2, 3],\n",
       "        [4, 5, 6],\n",
       "        [7, 8, 9]],\n",
       "\n",
       "       [[1, 2, 3],\n",
       "        [4, 5, 6],\n",
       "        [7, 8, 9]]])"
      ]
     },
     "execution_count": 13,
     "metadata": {},
     "output_type": "execute_result"
    }
   ],
   "source": [
    "arr_3d = np.array([arr_2d, arr_2d])\n",
    "arr_3d"
   ]
  },
  {
   "cell_type": "code",
   "execution_count": 14,
   "id": "43eba982",
   "metadata": {},
   "outputs": [
    {
     "data": {
      "text/plain": [
       "(2, 3, 3)"
      ]
     },
     "execution_count": 14,
     "metadata": {},
     "output_type": "execute_result"
    }
   ],
   "source": [
    "arr_3d.shape"
   ]
  },
  {
   "cell_type": "markdown",
   "id": "c17ca325",
   "metadata": {},
   "source": [
    "### Random generation"
   ]
  },
  {
   "cell_type": "markdown",
   "id": "f9458ce9",
   "metadata": {
    "collapsed": true
   },
   "source": [
    "#### Using generation functions"
   ]
  },
  {
   "cell_type": "code",
   "execution_count": 15,
   "id": "edf94de6",
   "metadata": {},
   "outputs": [
    {
     "data": {
      "text/plain": [
       "array([ 0,  1,  2,  3,  4,  5,  6,  7,  8,  9, 10, 11, 12, 13, 14, 15])"
      ]
     },
     "execution_count": 15,
     "metadata": {},
     "output_type": "execute_result"
    }
   ],
   "source": [
    "np.arange(16)"
   ]
  },
  {
   "cell_type": "code",
   "execution_count": 16,
   "id": "f947dc81",
   "metadata": {},
   "outputs": [
    {
     "data": {
      "text/plain": [
       "array([[ 0,  1,  2,  3],\n",
       "       [ 4,  5,  6,  7],\n",
       "       [ 8,  9, 10, 11],\n",
       "       [12, 13, 14, 15]])"
      ]
     },
     "execution_count": 16,
     "metadata": {},
     "output_type": "execute_result"
    }
   ],
   "source": [
    "np.arange(16).reshape(4, 4)"
   ]
  },
  {
   "cell_type": "code",
   "execution_count": 17,
   "id": "7fa13c8c",
   "metadata": {},
   "outputs": [
    {
     "data": {
      "text/plain": [
       "array([[0.        , 0.11111111],\n",
       "       [0.22222222, 0.33333333],\n",
       "       [0.44444444, 0.55555556],\n",
       "       [0.66666667, 0.77777778],\n",
       "       [0.88888889, 1.        ]])"
      ]
     },
     "execution_count": 17,
     "metadata": {},
     "output_type": "execute_result"
    }
   ],
   "source": [
    "np.linspace(0, 1, 10).reshape(5, 2)"
   ]
  },
  {
   "cell_type": "code",
   "execution_count": 18,
   "id": "7cfd286d",
   "metadata": {},
   "outputs": [
    {
     "data": {
      "text/plain": [
       "array([[1, 4, 7],\n",
       "       [2, 5, 8],\n",
       "       [3, 6, 9]])"
      ]
     },
     "execution_count": 18,
     "metadata": {},
     "output_type": "execute_result"
    }
   ],
   "source": [
    "arr_2d.T #This transposes the matrix"
   ]
  },
  {
   "cell_type": "markdown",
   "id": "44484f63",
   "metadata": {},
   "source": [
    "#### Using random numbers"
   ]
  },
  {
   "cell_type": "code",
   "execution_count": 19,
   "id": "963dc50e",
   "metadata": {},
   "outputs": [],
   "source": [
    "#np.random. # Delete the first '#', press tab to explore options"
   ]
  },
  {
   "cell_type": "code",
   "execution_count": 23,
   "id": "a6026bec",
   "metadata": {},
   "outputs": [],
   "source": [
    "arr_1d = np.random.randint(1, 100, 16)"
   ]
  },
  {
   "cell_type": "code",
   "execution_count": 24,
   "id": "358e4a7f",
   "metadata": {},
   "outputs": [
    {
     "data": {
      "text/plain": [
       "array([38, 69, 98, 48, 66, 51, 64, 66, 53, 72, 42, 65,  1,  4, 72, 59])"
      ]
     },
     "execution_count": 24,
     "metadata": {},
     "output_type": "execute_result"
    }
   ],
   "source": [
    "arr_1d"
   ]
  },
  {
   "cell_type": "code",
   "execution_count": 25,
   "id": "f0f2999e",
   "metadata": {},
   "outputs": [],
   "source": [
    "arr_2d = np.random.randint(0, 1000, 16).reshape(4, 4)"
   ]
  },
  {
   "cell_type": "code",
   "execution_count": 26,
   "id": "f02779c0",
   "metadata": {},
   "outputs": [
    {
     "data": {
      "text/plain": [
       "array([[594, 626,  13, 409],\n",
       "       [994, 852, 787, 363],\n",
       "       [322, 690, 724, 897],\n",
       "       [108, 710, 111, 584]])"
      ]
     },
     "execution_count": 26,
     "metadata": {},
     "output_type": "execute_result"
    }
   ],
   "source": [
    "arr_2d"
   ]
  },
  {
   "cell_type": "code",
   "execution_count": 27,
   "id": "2145e14f",
   "metadata": {},
   "outputs": [
    {
     "data": {
      "text/plain": [
       "array([ 0.03, -1.56, -1.38, -0.23,  1.06, -2.01, -1.22, -0.73,  2.12,\n",
       "        1.12])"
      ]
     },
     "execution_count": 27,
     "metadata": {},
     "output_type": "execute_result"
    }
   ],
   "source": [
    "np.random.randn(10).round(2) #This generates random number from the standard normal distribution"
   ]
  },
  {
   "cell_type": "code",
   "execution_count": 28,
   "id": "e5d8a820",
   "metadata": {},
   "outputs": [
    {
     "data": {
      "text/plain": [
       "array([[ 0.63, -0.45,  0.01,  0.26,  0.45, -0.12],\n",
       "       [ 0.33,  0.15, -1.5 , -0.98,  0.72, -0.66],\n",
       "       [ 0.17, -0.54, -0.85, -0.59,  0.99, -1.68],\n",
       "       [ 0.63, -0.05,  0.98, -0.44, -0.46, -0.17],\n",
       "       [-1.77, -1.44, -1.61, -0.66,  1.11, -0.48]])"
      ]
     },
     "execution_count": 28,
     "metadata": {},
     "output_type": "execute_result"
    }
   ],
   "source": [
    "np.random.randn(30).reshape(5, 6).round(2) #more on random generation later"
   ]
  },
  {
   "cell_type": "markdown",
   "id": "746875cb",
   "metadata": {},
   "source": [
    "### Subsetting (get a number or many numbers from an array)"
   ]
  },
  {
   "cell_type": "code",
   "execution_count": 29,
   "id": "4f9d2c2d",
   "metadata": {},
   "outputs": [
    {
     "data": {
      "text/plain": [
       "array([38, 69, 98, 48, 66, 51, 64, 66, 53, 72, 42, 65,  1,  4, 72, 59])"
      ]
     },
     "execution_count": 29,
     "metadata": {},
     "output_type": "execute_result"
    }
   ],
   "source": [
    "arr_1d"
   ]
  },
  {
   "cell_type": "code",
   "execution_count": 30,
   "id": "c35c8fd7",
   "metadata": {},
   "outputs": [
    {
     "data": {
      "text/plain": [
       "array([38, 98, 66, 64, 53, 42,  1, 72])"
      ]
     },
     "execution_count": 30,
     "metadata": {},
     "output_type": "execute_result"
    }
   ],
   "source": [
    "arr_1d[::2]"
   ]
  },
  {
   "cell_type": "code",
   "execution_count": 31,
   "id": "e065eedf",
   "metadata": {},
   "outputs": [
    {
     "data": {
      "text/plain": [
       "array([38, 69, 98, 51, 66, 48])"
      ]
     },
     "execution_count": 31,
     "metadata": {},
     "output_type": "execute_result"
    }
   ],
   "source": [
    "ind = np.array((0,1,2,5,4,3))\n",
    "arr_1d[ind]"
   ]
  },
  {
   "cell_type": "code",
   "execution_count": 32,
   "id": "67661421",
   "metadata": {},
   "outputs": [
    {
     "data": {
      "text/plain": [
       "array([[594, 626,  13, 409],\n",
       "       [994, 852, 787, 363],\n",
       "       [322, 690, 724, 897],\n",
       "       [108, 710, 111, 584]])"
      ]
     },
     "execution_count": 32,
     "metadata": {},
     "output_type": "execute_result"
    }
   ],
   "source": [
    "arr_2d"
   ]
  },
  {
   "cell_type": "code",
   "execution_count": 33,
   "id": "e486cdf1",
   "metadata": {},
   "outputs": [
    {
     "data": {
      "text/plain": [
       "787"
      ]
     },
     "execution_count": 33,
     "metadata": {},
     "output_type": "execute_result"
    }
   ],
   "source": [
    "arr_2d[1, 2] # Getting a single number. the first index is the row number, the second the column. Count starts at 0"
   ]
  },
  {
   "cell_type": "code",
   "execution_count": 34,
   "id": "ef2680a9",
   "metadata": {},
   "outputs": [
    {
     "data": {
      "text/plain": [
       "array([594, 626,  13, 409])"
      ]
     },
     "execution_count": 34,
     "metadata": {},
     "output_type": "execute_result"
    }
   ],
   "source": [
    "arr_2d[0, :]"
   ]
  },
  {
   "cell_type": "code",
   "execution_count": 35,
   "id": "a6aaf300",
   "metadata": {},
   "outputs": [
    {
     "data": {
      "text/plain": [
       "array([594, 994, 322, 108])"
      ]
     },
     "execution_count": 35,
     "metadata": {},
     "output_type": "execute_result"
    }
   ],
   "source": [
    "arr_2d[:, 0]"
   ]
  },
  {
   "cell_type": "code",
   "execution_count": 36,
   "id": "7cd3b794",
   "metadata": {},
   "outputs": [
    {
     "data": {
      "text/plain": [
       "array([[594, 626,  13, 409],\n",
       "       [994, 852, 787, 363]])"
      ]
     },
     "execution_count": 36,
     "metadata": {},
     "output_type": "execute_result"
    }
   ],
   "source": [
    "arr_2d[:2, :]"
   ]
  },
  {
   "cell_type": "code",
   "execution_count": 37,
   "id": "8ba6277f",
   "metadata": {},
   "outputs": [
    {
     "data": {
      "text/plain": [
       "array([[ 13, 409],\n",
       "       [787, 363],\n",
       "       [724, 897],\n",
       "       [111, 584]])"
      ]
     },
     "execution_count": 37,
     "metadata": {},
     "output_type": "execute_result"
    }
   ],
   "source": [
    "arr_2d[:, 2:]"
   ]
  },
  {
   "cell_type": "code",
   "execution_count": 38,
   "id": "67bc91d1",
   "metadata": {},
   "outputs": [
    {
     "data": {
      "text/plain": [
       "array([[724, 897],\n",
       "       [111, 584]])"
      ]
     },
     "execution_count": 38,
     "metadata": {},
     "output_type": "execute_result"
    }
   ],
   "source": [
    "arr_2d[2:4, 2:4]"
   ]
  },
  {
   "cell_type": "markdown",
   "id": "85c4fec8",
   "metadata": {},
   "source": [
    "#### Subsetting with Booleans"
   ]
  },
  {
   "cell_type": "markdown",
   "id": "a57700dc",
   "metadata": {},
   "source": [
    "ndarrays can be subsetted with a boolean array of equal length\n",
    "- will return a value wherever True"
   ]
  },
  {
   "cell_type": "code",
   "execution_count": 39,
   "id": "6b3cb953",
   "metadata": {},
   "outputs": [
    {
     "data": {
      "text/plain": [
       "[69, 98, 66, 51, 64, 66, 53, 72, 65, 72, 59]"
      ]
     },
     "execution_count": 39,
     "metadata": {},
     "output_type": "execute_result"
    }
   ],
   "source": [
    "list(filter(lambda x: x>50, list(arr_1d)))"
   ]
  },
  {
   "cell_type": "code",
   "execution_count": 41,
   "id": "8588a1b9",
   "metadata": {},
   "outputs": [
    {
     "data": {
      "text/plain": [
       "array([False,  True,  True, False,  True,  True,  True,  True,  True,\n",
       "        True, False,  True, False, False,  True,  True])"
      ]
     },
     "execution_count": 41,
     "metadata": {},
     "output_type": "execute_result"
    }
   ],
   "source": [
    "# Logical comparison is broadcasted\n",
    "arr_1d > 50"
   ]
  },
  {
   "cell_type": "code",
   "execution_count": 42,
   "id": "f7112184",
   "metadata": {},
   "outputs": [
    {
     "data": {
      "text/plain": [
       "[(38, False),\n",
       " (69, True),\n",
       " (98, True),\n",
       " (48, False),\n",
       " (66, True),\n",
       " (51, True),\n",
       " (64, True),\n",
       " (66, True),\n",
       " (53, True),\n",
       " (72, True),\n",
       " (42, False),\n",
       " (65, True),\n",
       " (1, False),\n",
       " (4, False),\n",
       " (72, True),\n",
       " (59, True)]"
      ]
     },
     "execution_count": 42,
     "metadata": {},
     "output_type": "execute_result"
    }
   ],
   "source": [
    "list(zip(arr_1d, arr_1d > 50)) #combine arrays elementwise into a list"
   ]
  },
  {
   "cell_type": "code",
   "execution_count": 44,
   "id": "e80006dd",
   "metadata": {},
   "outputs": [
    {
     "data": {
      "text/plain": [
       "array([69, 98, 66, 51, 64, 66, 53, 72, 65, 72, 59])"
      ]
     },
     "execution_count": 44,
     "metadata": {},
     "output_type": "execute_result"
    }
   ],
   "source": [
    "arr_1d[arr_1d > 50]"
   ]
  },
  {
   "cell_type": "code",
   "execution_count": 45,
   "id": "219591d2",
   "metadata": {},
   "outputs": [
    {
     "data": {
      "text/plain": [
       "array([[594, 626,  13, 409],\n",
       "       [994, 852, 787, 363],\n",
       "       [322, 690, 724, 897],\n",
       "       [108, 710, 111, 584]])"
      ]
     },
     "execution_count": 45,
     "metadata": {},
     "output_type": "execute_result"
    }
   ],
   "source": [
    "arr_2d"
   ]
  },
  {
   "cell_type": "code",
   "execution_count": 46,
   "id": "74956955",
   "metadata": {},
   "outputs": [
    {
     "data": {
      "text/plain": [
       "array([[ True,  True, False, False],\n",
       "       [ True,  True, False, False],\n",
       "       [ True,  True,  True, False],\n",
       "       [ True,  True, False,  True]])"
      ]
     },
     "execution_count": 46,
     "metadata": {},
     "output_type": "execute_result"
    }
   ],
   "source": [
    "arr_2d % 2 == 0"
   ]
  },
  {
   "cell_type": "code",
   "execution_count": 47,
   "id": "6fd006fd",
   "metadata": {},
   "outputs": [
    {
     "data": {
      "text/plain": [
       "array([594, 626, 994, 852, 322, 690, 724, 108, 710, 584])"
      ]
     },
     "execution_count": 47,
     "metadata": {},
     "output_type": "execute_result"
    }
   ],
   "source": [
    "arr_2d[arr_2d % 2 == 0]"
   ]
  },
  {
   "cell_type": "markdown",
   "id": "88e57912",
   "metadata": {},
   "source": [
    "### Mathematical Operations"
   ]
  },
  {
   "cell_type": "code",
   "execution_count": 48,
   "id": "d02ae62d",
   "metadata": {},
   "outputs": [
    {
     "name": "stdout",
     "output_type": "stream",
     "text": [
      "[38 69 98 48 66 51 64 66 53 72 42 65  1  4 72 59]\n"
     ]
    },
    {
     "data": {
      "text/plain": [
       "array([ 76, 138, 196,  96, 132, 102, 128, 132, 106, 144,  84, 130,   2,\n",
       "         8, 144, 118])"
      ]
     },
     "execution_count": 48,
     "metadata": {},
     "output_type": "execute_result"
    }
   ],
   "source": [
    "print(arr_1d)\n",
    "arr_1d + arr_1d"
   ]
  },
  {
   "cell_type": "code",
   "execution_count": 49,
   "id": "65dd5f74",
   "metadata": {},
   "outputs": [
    {
     "name": "stdout",
     "output_type": "stream",
     "text": [
      "[[594 626  13 409]\n",
      " [994 852 787 363]\n",
      " [322 690 724 897]\n",
      " [108 710 111 584]]\n"
     ]
    },
    {
     "data": {
      "text/plain": [
       "array([[1188, 1252,   26,  818],\n",
       "       [1988, 1704, 1574,  726],\n",
       "       [ 644, 1380, 1448, 1794],\n",
       "       [ 216, 1420,  222, 1168]])"
      ]
     },
     "execution_count": 49,
     "metadata": {},
     "output_type": "execute_result"
    }
   ],
   "source": [
    "print(arr_2d)\n",
    "arr_2d + arr_2d"
   ]
  },
  {
   "cell_type": "code",
   "execution_count": 50,
   "id": "2e84564d",
   "metadata": {},
   "outputs": [],
   "source": [
    "#arr_1d + arr_2d # Delete the first '#' # This doesn't work as the dimensionality should match"
   ]
  },
  {
   "cell_type": "code",
   "execution_count": 51,
   "id": "f8cb5471",
   "metadata": {},
   "outputs": [
    {
     "name": "stdout",
     "output_type": "stream",
     "text": [
      "352836\n",
      "[[352836 391876    169 167281]\n",
      " [988036 725904 619369 131769]\n",
      " [103684 476100 524176 804609]\n",
      " [ 11664 504100  12321 341056]]\n"
     ]
    }
   ],
   "source": [
    "print(arr_2d[0,0] * arr_2d[0,0]) #multiplication is elementwise, not the matrix multiplication\n",
    "print(arr_2d * arr_2d)"
   ]
  },
  {
   "cell_type": "markdown",
   "id": "931df120",
   "metadata": {},
   "source": [
    "#### Math Functions"
   ]
  },
  {
   "cell_type": "code",
   "execution_count": 52,
   "id": "6ea08d0d",
   "metadata": {},
   "outputs": [
    {
     "data": {
      "text/plain": [
       "array([6.16, 8.31, 9.9 , 6.93, 8.12, 7.14, 8.  , 8.12, 7.28, 8.49, 6.48,\n",
       "       8.06, 1.  , 2.  , 8.49, 7.68])"
      ]
     },
     "execution_count": 52,
     "metadata": {},
     "output_type": "execute_result"
    }
   ],
   "source": [
    "np.sqrt(arr_1d).round(2)"
   ]
  },
  {
   "cell_type": "code",
   "execution_count": 53,
   "id": "3eac926b",
   "metadata": {},
   "outputs": [
    {
     "data": {
      "text/plain": [
       "array([[6.39, 6.44, 2.56, 6.01],\n",
       "       [6.9 , 6.75, 6.67, 5.89],\n",
       "       [5.77, 6.54, 6.58, 6.8 ],\n",
       "       [4.68, 6.57, 4.71, 6.37]])"
      ]
     },
     "execution_count": 53,
     "metadata": {},
     "output_type": "execute_result"
    }
   ],
   "source": [
    "np.log(arr_2d).round(2)"
   ]
  },
  {
   "cell_type": "markdown",
   "id": "897b66cd",
   "metadata": {},
   "source": [
    "#### Array Attributes and Methods"
   ]
  },
  {
   "cell_type": "markdown",
   "id": "cfd7dd8c",
   "metadata": {},
   "source": [
    "- commonly used: `reshape, round... `"
   ]
  },
  {
   "cell_type": "code",
   "execution_count": 54,
   "id": "bcaed4fc",
   "metadata": {},
   "outputs": [
    {
     "data": {
      "text/plain": [
       "False"
      ]
     },
     "execution_count": 54,
     "metadata": {},
     "output_type": "execute_result"
    }
   ],
   "source": [
    "np.array([True, True, False, True]).all() #logical AND"
   ]
  },
  {
   "cell_type": "code",
   "execution_count": 55,
   "id": "c8d6ac14",
   "metadata": {},
   "outputs": [
    {
     "data": {
      "text/plain": [
       "True"
      ]
     },
     "execution_count": 55,
     "metadata": {},
     "output_type": "execute_result"
    }
   ],
   "source": [
    "np.array([True, True, False, True]).any() #logical OR"
   ]
  },
  {
   "cell_type": "code",
   "execution_count": 56,
   "id": "f01f474f",
   "metadata": {},
   "outputs": [
    {
     "data": {
      "text/plain": [
       "array([38, 69, 98, 48, 66, 51, 64, 66, 53, 72, 42, 65,  1,  4, 72, 59])"
      ]
     },
     "execution_count": 56,
     "metadata": {},
     "output_type": "execute_result"
    }
   ],
   "source": [
    "arr_1d"
   ]
  },
  {
   "cell_type": "code",
   "execution_count": 57,
   "id": "11b21c68",
   "metadata": {},
   "outputs": [
    {
     "data": {
      "text/plain": [
       "868"
      ]
     },
     "execution_count": 57,
     "metadata": {},
     "output_type": "execute_result"
    }
   ],
   "source": [
    "arr_1d.sum()"
   ]
  },
  {
   "cell_type": "code",
   "execution_count": 58,
   "id": "a34aea02",
   "metadata": {},
   "outputs": [
    {
     "data": {
      "text/plain": [
       "2"
      ]
     },
     "execution_count": 58,
     "metadata": {},
     "output_type": "execute_result"
    }
   ],
   "source": [
    "arr_1d.argmax()"
   ]
  },
  {
   "cell_type": "code",
   "execution_count": 59,
   "id": "2fd41945",
   "metadata": {},
   "outputs": [
    {
     "data": {
      "text/plain": [
       "98"
      ]
     },
     "execution_count": 59,
     "metadata": {},
     "output_type": "execute_result"
    }
   ],
   "source": [
    "arr_1d[arr_1d.argmax()]"
   ]
  },
  {
   "cell_type": "code",
   "execution_count": 60,
   "id": "b9393063",
   "metadata": {},
   "outputs": [
    {
     "data": {
      "text/plain": [
       "array([12, 13,  0, 10,  3,  5,  8, 15,  6, 11,  4,  7,  1,  9, 14,  2],\n",
       "      dtype=int64)"
      ]
     },
     "execution_count": 60,
     "metadata": {},
     "output_type": "execute_result"
    }
   ],
   "source": [
    "arr_1d.argsort()"
   ]
  },
  {
   "cell_type": "code",
   "execution_count": 61,
   "id": "5010b595",
   "metadata": {},
   "outputs": [
    {
     "data": {
      "text/plain": [
       "array([ 1,  4, 38, 42, 48, 51, 53, 59, 64, 65, 66, 66, 69, 72, 72, 98])"
      ]
     },
     "execution_count": 61,
     "metadata": {},
     "output_type": "execute_result"
    }
   ],
   "source": [
    "arr_1d[arr_1d.argsort()]"
   ]
  },
  {
   "cell_type": "markdown",
   "id": "453c1b75",
   "metadata": {
    "collapsed": true
   },
   "source": [
    "## Exercises"
   ]
  },
  {
   "cell_type": "markdown",
   "id": "ab33887c",
   "metadata": {
    "collapsed": true
   },
   "source": [
    "### Create an array where you \n",
    "1. store the (randomly generated) grades of an exam (max grade 20) and assume there are 100 students. \n",
    "2. Show student 10 to 15. \n",
    "3. Select the students who pass the exam, store this into a new array. \n",
    "4. Find the/a/all student(s) with the best grade."
   ]
  },
  {
   "cell_type": "code",
   "execution_count": 2,
   "id": "9d8d0b74",
   "metadata": {},
   "outputs": [],
   "source": [
    "# import the necessary packages\n"
   ]
  },
  {
   "cell_type": "code",
   "execution_count": 8,
   "id": "eeb41a7e",
   "metadata": {},
   "outputs": [
    {
     "data": {
      "text/plain": [
       "array([19,  0,  3,  4, 19,  5,  5, 13,  4,  0,  6, 20, 17,  7,  4,  8, 15,\n",
       "       14,  9, 13,  2,  5,  1, 15,  6,  7,  9,  7,  0, 15,  5,  2, 12,  3,\n",
       "       11,  3,  5,  4, 13, 16,  8, 18,  4, 17, 20, 18,  0,  8, 14,  5,  1,\n",
       "       15,  8,  2,  7,  8,  4,  8,  8, 19,  2, 17, 18, 20, 11, 12,  1,  3,\n",
       "       17, 19, 15,  6, 12,  0, 17,  1, 19,  4, 15,  0, 18, 13, 11, 11,  8,\n",
       "        5, 19, 11,  1, 11,  1, 11, 13, 20,  3, 10,  7, 16, 12, 14])"
      ]
     },
     "execution_count": 8,
     "metadata": {},
     "output_type": "execute_result"
    }
   ],
   "source": [
    "# 100 grades between 0 and 20\n",
    "grades = np.random.randint(0, 21, 100)\n",
    "grades\n"
   ]
  },
  {
   "cell_type": "code",
   "execution_count": 9,
   "id": "b4e6c820",
   "metadata": {},
   "outputs": [
    {
     "data": {
      "text/plain": [
       "array([ 0,  6, 20, 17,  7,  4])"
      ]
     },
     "execution_count": 9,
     "metadata": {},
     "output_type": "execute_result"
    }
   ],
   "source": [
    "# Select grade 10 - 15\n"
   ]
  },
  {
   "cell_type": "code",
   "execution_count": null,
   "id": "8abcc5c4",
   "metadata": {},
   "outputs": [],
   "source": [
    "# Select the students who pass the exam, store this into a new array. "
   ]
  },
  {
   "cell_type": "code",
   "execution_count": null,
   "id": "18dd5362",
   "metadata": {},
   "outputs": [],
   "source": [
    "# find the best grade"
   ]
  },
  {
   "cell_type": "code",
   "execution_count": null,
   "id": "79abe3ec",
   "metadata": {},
   "outputs": [],
   "source": [
    "# find the value of the best grade"
   ]
  },
  {
   "cell_type": "code",
   "execution_count": 10,
   "id": "0c5bd40c",
   "metadata": {},
   "outputs": [
    {
     "data": {
      "text/plain": [
       "array([19, 19, 13, 20, 17, 15, 14, 13, 15, 15, 12, 11, 13, 16, 18, 17, 20,\n",
       "       18, 14, 15, 19, 17, 18, 20, 11, 12, 17, 19, 15, 12, 17, 19, 15, 18,\n",
       "       13, 11, 11, 19, 11, 11, 11, 13, 20, 10, 16, 12, 14])"
      ]
     },
     "execution_count": 10,
     "metadata": {},
     "output_type": "execute_result"
    }
   ],
   "source": [
    "# extract a list of all the best grades"
   ]
  },
  {
   "cell_type": "markdown",
   "id": "b415194a",
   "metadata": {},
   "source": [
    "### Create a 8x8 matrix and fill it with a checkerboard pattern of 1's and 0's. Start with 1."
   ]
  },
  {
   "cell_type": "code",
   "execution_count": null,
   "id": "14197e7b",
   "metadata": {},
   "outputs": [],
   "source": []
  },
  {
   "cell_type": "markdown",
   "id": "7da6ac4b",
   "metadata": {},
   "source": [
    "### Create a 8x8 matrix and fill it with a checkerboard pattern of 1's and 0's. Start with 0."
   ]
  },
  {
   "cell_type": "code",
   "execution_count": null,
   "id": "63a782d4",
   "metadata": {},
   "outputs": [],
   "source": []
  },
  {
   "cell_type": "markdown",
   "id": "2aecfd6b",
   "metadata": {},
   "source": [
    "### Create random vector of size 10 and replace the maximum value by 0"
   ]
  },
  {
   "cell_type": "code",
   "execution_count": null,
   "id": "27f78e2a",
   "metadata": {},
   "outputs": [],
   "source": []
  },
  {
   "cell_type": "markdown",
   "id": "f356d194",
   "metadata": {},
   "source": [
    "#### Normalize a 5x5 random matrix"
   ]
  },
  {
   "cell_type": "code",
   "execution_count": null,
   "id": "68645c1f",
   "metadata": {},
   "outputs": [],
   "source": []
  },
  {
   "cell_type": "markdown",
   "id": "94d3941d",
   "metadata": {},
   "source": [
    "### How to find common values between two arrays?\n",
    "- Create 2 random integer arrays of the same size\n",
    "- Find the intersect (1dimensional)"
   ]
  },
  {
   "cell_type": "code",
   "execution_count": null,
   "id": "750dc561",
   "metadata": {},
   "outputs": [],
   "source": []
  },
  {
   "cell_type": "markdown",
   "id": "93b270ac",
   "metadata": {},
   "source": [
    "### Generate a generic 2D Gaussian-like array (mu=0.0, sigma=1.0)"
   ]
  },
  {
   "cell_type": "code",
   "execution_count": 2,
   "id": "138a55fe",
   "metadata": {
    "ExecuteTime": {
     "end_time": "2022-10-25T19:27:03.057532Z",
     "start_time": "2022-10-25T19:27:03.042533Z"
    }
   },
   "outputs": [
    {
     "name": "stdout",
     "output_type": "stream",
     "text": [
      "[[0.36787944 0.44822088 0.51979489 0.57375342 0.60279818 0.60279818\n",
      "  0.57375342 0.51979489 0.44822088 0.36787944]\n",
      " [0.44822088 0.54610814 0.63331324 0.69905581 0.73444367 0.73444367\n",
      "  0.69905581 0.63331324 0.54610814 0.44822088]\n",
      " [0.51979489 0.63331324 0.73444367 0.81068432 0.85172308 0.85172308\n",
      "  0.81068432 0.73444367 0.63331324 0.51979489]\n",
      " [0.57375342 0.69905581 0.81068432 0.89483932 0.9401382  0.9401382\n",
      "  0.89483932 0.81068432 0.69905581 0.57375342]\n",
      " [0.60279818 0.73444367 0.85172308 0.9401382  0.98773022 0.98773022\n",
      "  0.9401382  0.85172308 0.73444367 0.60279818]\n",
      " [0.60279818 0.73444367 0.85172308 0.9401382  0.98773022 0.98773022\n",
      "  0.9401382  0.85172308 0.73444367 0.60279818]\n",
      " [0.57375342 0.69905581 0.81068432 0.89483932 0.9401382  0.9401382\n",
      "  0.89483932 0.81068432 0.69905581 0.57375342]\n",
      " [0.51979489 0.63331324 0.73444367 0.81068432 0.85172308 0.85172308\n",
      "  0.81068432 0.73444367 0.63331324 0.51979489]\n",
      " [0.44822088 0.54610814 0.63331324 0.69905581 0.73444367 0.73444367\n",
      "  0.69905581 0.63331324 0.54610814 0.44822088]\n",
      " [0.36787944 0.44822088 0.51979489 0.57375342 0.60279818 0.60279818\n",
      "  0.57375342 0.51979489 0.44822088 0.36787944]]\n"
     ]
    }
   ],
   "source": [
    "X, Y = np.meshgrid(np.linspace(-1,1,10), np.linspace(-1,1,10))\n",
    "D = np.sqrt(X*X+Y*Y)\n",
    "sigma, mu = 1.0, 0.0\n",
    "G = np.exp(-( (D-mu)**2 / ( 2.0 * sigma**2 ) ) )\n",
    "print(G)"
   ]
  },
  {
   "cell_type": "markdown",
   "id": "9cb28a7d",
   "metadata": {},
   "source": [
    "### Draw a 3D plot of the Gaussian-like array"
   ]
  },
  {
   "cell_type": "code",
   "execution_count": 6,
   "id": "0eef4769",
   "metadata": {
    "ExecuteTime": {
     "end_time": "2022-10-25T19:37:59.303898Z",
     "start_time": "2022-10-25T19:37:59.096817Z"
    }
   },
   "outputs": [
    {
     "data": {
      "image/png": "[encoded data removed]",
      "text/plain": [
       "<Figure size 432x288 with 1 Axes>"
      ]
     },
     "metadata": {
      "needs_background": "light"
     },
     "output_type": "display_data"
    }
   ],
   "source": [
    "import matplotlib.pyplot as plt\n",
    "fig = plt.figure()\n",
    "ax = plt.axes(projection='3d')\n",
    "# ax.plot3D(X, Y, G, 'gray')\n",
    "\n",
    "ax.contour3D(X, Y, G, 50, cmap='binary')\n",
    "ax.set_xlabel('x')\n",
    "ax.set_ylabel('y')\n",
    "ax.set_zlabel('g');\n"
   ]
  },
  {
   "cell_type": "markdown",
   "id": "4e713124",
   "metadata": {
    "ExecuteTime": {
     "end_time": "2022-10-25T19:38:01.202754Z",
     "start_time": "2022-10-25T19:38:01.180760Z"
    }
   },
   "source": [
    "### Generate a 2D meshgrid of the following function \n",
    "sin(sqrt(x ** 2 + y ** 2))"
   ]
  },
  {
   "cell_type": "code",
   "execution_count": null,
   "id": "aa1b5548",
   "metadata": {
    "ExecuteTime": {
     "end_time": "2022-10-25T19:38:01.202754Z",
     "start_time": "2022-10-25T19:38:01.180760Z"
    }
   },
   "outputs": [],
   "source": []
  },
  {
   "cell_type": "markdown",
   "id": "cd5318fa",
   "metadata": {
    "ExecuteTime": {
     "end_time": "2022-10-25T19:43:01.669369Z",
     "start_time": "2022-10-25T19:43:01.444322Z"
    }
   },
   "source": [
    "### Generate a 3D drawing of the sinusoidal function"
   ]
  },
  {
   "cell_type": "code",
   "execution_count": null,
   "id": "9184f3ac",
   "metadata": {},
   "outputs": [],
   "source": []
  }
 ],
 "metadata": {
  "hide_input": false,
  "kernelspec": {
   "display_name": "Python 3 (ipykernel)",
   "language": "python",
   "name": "python3"
  },
  "language_info": {
   "codemirror_mode": {
    "name": "ipython",
    "version": 3
   },
   "file_extension": ".py",
   "mimetype": "text/x-python",
   "name": "python",
   "nbconvert_exporter": "python",
   "pygments_lexer": "ipython3",
   "version": "3.10.8"
  },
  "latex_envs": {
   "LaTeX_envs_menu_present": true,
   "autoclose": true,
   "autocomplete": true,
   "bibliofile": "biblio.bib",
   "cite_by": "apalike",
   "current_citInitial": 1,
   "eqLabelWithNumbers": true,
   "eqNumInitial": 1,
   "hotkeys": {
    "equation": "Ctrl-E",
    "itemize": "Ctrl-I"
   },
   "labels_anchors": false,
   "latex_user_defs": false,
   "report_style_numbering": false,
   "user_envs_cfg": false
  },
  "toc": {
   "base_numbering": 1,
   "nav_menu": {},
   "number_sections": true,
   "sideBar": true,
   "skip_h1_title": false,
   "title_cell": "Table of Contents",
   "title_sidebar": "Contents",
   "toc_cell": false,
   "toc_position": {},
   "toc_section_display": true,
   "toc_window_display": false
  },
  "varInspector": {
   "cols": {
    "lenName": 16,
    "lenType": 16,
    "lenVar": 40
   },
   "kernels_config": {
    "python": {
     "delete_cmd_postfix": "",
     "delete_cmd_prefix": "del ",
     "library": "var_list.py",
     "varRefreshCmd": "print(var_dic_list())"
    },
    "r": {
     "delete_cmd_postfix": ") ",
     "delete_cmd_prefix": "rm(",
     "library": "var_list.r",
     "varRefreshCmd": "cat(var_dic_list()) "
    }
   },
   "types_to_exclude": [
    "module",
    "function",
    "builtin_function_or_method",
    "instance",
    "_Feature"
   ],
   "window_display": false
  }
 },
 "nbformat": 4,
 "nbformat_minor": 5
}
