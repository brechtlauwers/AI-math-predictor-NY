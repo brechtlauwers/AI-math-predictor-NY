{
 "cells": [
  {
   "cell_type": "markdown",
   "id": "57c5ab45",
   "metadata": {},
   "source": [
    "# Data Cleaning  \n",
    "Link to the data can be found here: [2006 - 2012 Math Test Results - All Students](https://data.cityofnewyork.us/Education/2006-2012-Math-Test-Results-All-Students/3mrr-8h5c)\n"
   ]
  },
  {
   "cell_type": "code",
   "execution_count": 138,
   "id": "8b23a1db",
   "metadata": {},
   "outputs": [],
   "source": [
    "# Imports\n",
    "import numpy as np\n",
    "import pandas as pd\n",
    "import matplotlib.pyplot as plt"
   ]
  },
  {
   "cell_type": "markdown",
   "id": "47a66123",
   "metadata": {},
   "source": [
    "### Column explanation:  \n",
    "__DBN__ => District Borough Number, unique id of the school  \n",
    "__Grade__ => Grade of the students. Grade 3 to 8 (2de leerjaar tot 2de middelbaar) or all grades  \n",
    "__Year__ => School year, 2006-2012  \n",
    "__Demographics__ => \"All students\"  \n",
    "__Number Tested__ => Amount of students that were tested  \n",
    "__Mean Scale Score__ => Average performance from the group of students   \n",
    "__Num Level x__ => Found this when researching: [Explanation](https://www.lumoslearning.com/llwp/teachers-speak/new-york-state-test-scores-rankings.html) New York State assigns Performance Levels 4, 3, 2, and 1 to scale scores on the test. Students can score a Level 4 through Level 1 on the test, depending on their scale score. Level 1 is the worst and level 4 is the best.    \n",
    "__Pct Level x__ => Percent of students in this level    "
   ]
  },
  {
   "cell_type": "code",
   "execution_count": 139,
   "id": "bfb56129",
   "metadata": {},
   "outputs": [
    {
     "data": {
      "text/html": [
       "<div>\n",
       "<style scoped>\n",
       "    .dataframe tbody tr th:only-of-type {\n",
       "        vertical-align: middle;\n",
       "    }\n",
       "\n",
       "    .dataframe tbody tr th {\n",
       "        vertical-align: top;\n",
       "    }\n",
       "\n",
       "    .dataframe thead th {\n",
       "        text-align: right;\n",
       "    }\n",
       "</style>\n",
       "<table border=\"1\" class=\"dataframe\">\n",
       "  <thead>\n",
       "    <tr style=\"text-align: right;\">\n",
       "      <th></th>\n",
       "      <th>DBN</th>\n",
       "      <th>Grade</th>\n",
       "      <th>Year</th>\n",
       "      <th>Demographic</th>\n",
       "      <th>Number Tested</th>\n",
       "      <th>Mean Scale Score</th>\n",
       "      <th>Num Level 1</th>\n",
       "      <th>Pct Level 1</th>\n",
       "      <th>Num Level 2</th>\n",
       "      <th>Pct Level 2</th>\n",
       "      <th>Num Level 3</th>\n",
       "      <th>Pct Level 3</th>\n",
       "      <th>Num Level 4</th>\n",
       "      <th>Pct Level 4</th>\n",
       "      <th>Num Level 3 and 4</th>\n",
       "      <th>Pct Level 3 and 4</th>\n",
       "    </tr>\n",
       "  </thead>\n",
       "  <tbody>\n",
       "    <tr>\n",
       "      <th>0</th>\n",
       "      <td>01M015</td>\n",
       "      <td>3</td>\n",
       "      <td>2006</td>\n",
       "      <td>All Students</td>\n",
       "      <td>39</td>\n",
       "      <td>667</td>\n",
       "      <td>2</td>\n",
       "      <td>5.1</td>\n",
       "      <td>11</td>\n",
       "      <td>28.2</td>\n",
       "      <td>20</td>\n",
       "      <td>51.3</td>\n",
       "      <td>6</td>\n",
       "      <td>15.4</td>\n",
       "      <td>26</td>\n",
       "      <td>66.7</td>\n",
       "    </tr>\n",
       "    <tr>\n",
       "      <th>1</th>\n",
       "      <td>01M015</td>\n",
       "      <td>3</td>\n",
       "      <td>2007</td>\n",
       "      <td>All Students</td>\n",
       "      <td>31</td>\n",
       "      <td>672</td>\n",
       "      <td>2</td>\n",
       "      <td>6.5</td>\n",
       "      <td>3</td>\n",
       "      <td>9.7</td>\n",
       "      <td>22</td>\n",
       "      <td>71</td>\n",
       "      <td>4</td>\n",
       "      <td>12.9</td>\n",
       "      <td>26</td>\n",
       "      <td>83.9</td>\n",
       "    </tr>\n",
       "    <tr>\n",
       "      <th>2</th>\n",
       "      <td>01M015</td>\n",
       "      <td>3</td>\n",
       "      <td>2008</td>\n",
       "      <td>All Students</td>\n",
       "      <td>37</td>\n",
       "      <td>668</td>\n",
       "      <td>0</td>\n",
       "      <td>0</td>\n",
       "      <td>6</td>\n",
       "      <td>16.2</td>\n",
       "      <td>29</td>\n",
       "      <td>78.4</td>\n",
       "      <td>2</td>\n",
       "      <td>5.4</td>\n",
       "      <td>31</td>\n",
       "      <td>83.8</td>\n",
       "    </tr>\n",
       "    <tr>\n",
       "      <th>3</th>\n",
       "      <td>01M015</td>\n",
       "      <td>3</td>\n",
       "      <td>2009</td>\n",
       "      <td>All Students</td>\n",
       "      <td>33</td>\n",
       "      <td>668</td>\n",
       "      <td>0</td>\n",
       "      <td>0</td>\n",
       "      <td>4</td>\n",
       "      <td>12.1</td>\n",
       "      <td>28</td>\n",
       "      <td>84.8</td>\n",
       "      <td>1</td>\n",
       "      <td>3</td>\n",
       "      <td>29</td>\n",
       "      <td>87.9</td>\n",
       "    </tr>\n",
       "    <tr>\n",
       "      <th>4</th>\n",
       "      <td>01M015</td>\n",
       "      <td>3</td>\n",
       "      <td>2010</td>\n",
       "      <td>All Students</td>\n",
       "      <td>26</td>\n",
       "      <td>677</td>\n",
       "      <td>6</td>\n",
       "      <td>23.1</td>\n",
       "      <td>12</td>\n",
       "      <td>46.2</td>\n",
       "      <td>6</td>\n",
       "      <td>23.1</td>\n",
       "      <td>2</td>\n",
       "      <td>7.7</td>\n",
       "      <td>8</td>\n",
       "      <td>30.8</td>\n",
       "    </tr>\n",
       "    <tr>\n",
       "      <th>...</th>\n",
       "      <td>...</td>\n",
       "      <td>...</td>\n",
       "      <td>...</td>\n",
       "      <td>...</td>\n",
       "      <td>...</td>\n",
       "      <td>...</td>\n",
       "      <td>...</td>\n",
       "      <td>...</td>\n",
       "      <td>...</td>\n",
       "      <td>...</td>\n",
       "      <td>...</td>\n",
       "      <td>...</td>\n",
       "      <td>...</td>\n",
       "      <td>...</td>\n",
       "      <td>...</td>\n",
       "      <td>...</td>\n",
       "    </tr>\n",
       "    <tr>\n",
       "      <th>33456</th>\n",
       "      <td>75X723</td>\n",
       "      <td>All Grades</td>\n",
       "      <td>2008</td>\n",
       "      <td>All Students</td>\n",
       "      <td>211</td>\n",
       "      <td>NaN</td>\n",
       "      <td>139</td>\n",
       "      <td>65.9</td>\n",
       "      <td>46</td>\n",
       "      <td>21.8</td>\n",
       "      <td>26</td>\n",
       "      <td>12.3</td>\n",
       "      <td>0</td>\n",
       "      <td>0</td>\n",
       "      <td>26</td>\n",
       "      <td>12.3</td>\n",
       "    </tr>\n",
       "    <tr>\n",
       "      <th>33457</th>\n",
       "      <td>75X723</td>\n",
       "      <td>All Grades</td>\n",
       "      <td>2009</td>\n",
       "      <td>All Students</td>\n",
       "      <td>209</td>\n",
       "      <td>NaN</td>\n",
       "      <td>88</td>\n",
       "      <td>42.1</td>\n",
       "      <td>87</td>\n",
       "      <td>41.6</td>\n",
       "      <td>30</td>\n",
       "      <td>14.4</td>\n",
       "      <td>4</td>\n",
       "      <td>1.9</td>\n",
       "      <td>34</td>\n",
       "      <td>16.3</td>\n",
       "    </tr>\n",
       "    <tr>\n",
       "      <th>33458</th>\n",
       "      <td>75X723</td>\n",
       "      <td>All Grades</td>\n",
       "      <td>2010</td>\n",
       "      <td>All Students</td>\n",
       "      <td>242</td>\n",
       "      <td>NaN</td>\n",
       "      <td>157</td>\n",
       "      <td>64.9</td>\n",
       "      <td>75</td>\n",
       "      <td>31</td>\n",
       "      <td>10</td>\n",
       "      <td>4.1</td>\n",
       "      <td>0</td>\n",
       "      <td>0</td>\n",
       "      <td>10</td>\n",
       "      <td>4.1</td>\n",
       "    </tr>\n",
       "    <tr>\n",
       "      <th>33459</th>\n",
       "      <td>75X723</td>\n",
       "      <td>All Grades</td>\n",
       "      <td>2011</td>\n",
       "      <td>All Students</td>\n",
       "      <td>229</td>\n",
       "      <td>617</td>\n",
       "      <td>153</td>\n",
       "      <td>66.8</td>\n",
       "      <td>67</td>\n",
       "      <td>29.3</td>\n",
       "      <td>8</td>\n",
       "      <td>3.5</td>\n",
       "      <td>1</td>\n",
       "      <td>0.4</td>\n",
       "      <td>9</td>\n",
       "      <td>3.9</td>\n",
       "    </tr>\n",
       "    <tr>\n",
       "      <th>33460</th>\n",
       "      <td>75X723</td>\n",
       "      <td>All Grades</td>\n",
       "      <td>2012</td>\n",
       "      <td>All Students</td>\n",
       "      <td>213</td>\n",
       "      <td>620</td>\n",
       "      <td>142</td>\n",
       "      <td>66.7</td>\n",
       "      <td>67</td>\n",
       "      <td>31.5</td>\n",
       "      <td>4</td>\n",
       "      <td>1.9</td>\n",
       "      <td>0</td>\n",
       "      <td>0</td>\n",
       "      <td>4</td>\n",
       "      <td>1.9</td>\n",
       "    </tr>\n",
       "  </tbody>\n",
       "</table>\n",
       "<p>33461 rows × 16 columns</p>\n",
       "</div>"
      ],
      "text/plain": [
       "          DBN       Grade  Year   Demographic  Number Tested Mean Scale Score  \\\n",
       "0      01M015           3  2006  All Students             39              667   \n",
       "1      01M015           3  2007  All Students             31              672   \n",
       "2      01M015           3  2008  All Students             37              668   \n",
       "3      01M015           3  2009  All Students             33              668   \n",
       "4      01M015           3  2010  All Students             26              677   \n",
       "...       ...         ...   ...           ...            ...              ...   \n",
       "33456  75X723  All Grades  2008  All Students            211              NaN   \n",
       "33457  75X723  All Grades  2009  All Students            209              NaN   \n",
       "33458  75X723  All Grades  2010  All Students            242              NaN   \n",
       "33459  75X723  All Grades  2011  All Students            229              617   \n",
       "33460  75X723  All Grades  2012  All Students            213              620   \n",
       "\n",
       "      Num Level 1 Pct Level 1 Num Level 2 Pct Level 2 Num Level 3 Pct Level 3  \\\n",
       "0               2         5.1          11        28.2          20        51.3   \n",
       "1               2         6.5           3         9.7          22          71   \n",
       "2               0           0           6        16.2          29        78.4   \n",
       "3               0           0           4        12.1          28        84.8   \n",
       "4               6        23.1          12        46.2           6        23.1   \n",
       "...           ...         ...         ...         ...         ...         ...   \n",
       "33456         139        65.9          46        21.8          26        12.3   \n",
       "33457          88        42.1          87        41.6          30        14.4   \n",
       "33458         157        64.9          75          31          10         4.1   \n",
       "33459         153        66.8          67        29.3           8         3.5   \n",
       "33460         142        66.7          67        31.5           4         1.9   \n",
       "\n",
       "      Num Level 4 Pct Level 4 Num Level 3 and 4 Pct Level 3 and 4  \n",
       "0               6        15.4                26              66.7  \n",
       "1               4        12.9                26              83.9  \n",
       "2               2         5.4                31              83.8  \n",
       "3               1           3                29              87.9  \n",
       "4               2         7.7                 8              30.8  \n",
       "...           ...         ...               ...               ...  \n",
       "33456           0           0                26              12.3  \n",
       "33457           4         1.9                34              16.3  \n",
       "33458           0           0                10               4.1  \n",
       "33459           1         0.4                 9               3.9  \n",
       "33460           0           0                 4               1.9  \n",
       "\n",
       "[33461 rows x 16 columns]"
      ]
     },
     "execution_count": 139,
     "metadata": {},
     "output_type": "execute_result"
    }
   ],
   "source": [
    "# Load and show data\n",
    "math_results_df = pd.read_csv('Math_Test_Results.csv')\n",
    "math_results_df"
   ]
  },
  {
   "cell_type": "code",
   "execution_count": 140,
   "id": "c766a5e3",
   "metadata": {},
   "outputs": [
    {
     "name": "stdout",
     "output_type": "stream",
     "text": [
      "<class 'pandas.core.frame.DataFrame'>\n",
      "RangeIndex: 33461 entries, 0 to 33460\n",
      "Data columns (total 16 columns):\n",
      " #   Column             Non-Null Count  Dtype \n",
      "---  ------             --------------  ----- \n",
      " 0   DBN                33461 non-null  object\n",
      " 1   Grade              33461 non-null  object\n",
      " 2   Year               33461 non-null  int64 \n",
      " 3   Demographic        33461 non-null  object\n",
      " 4   Number Tested      33461 non-null  int64 \n",
      " 5   Mean Scale Score   28106 non-null  object\n",
      " 6   Num Level 1        33461 non-null  object\n",
      " 7   Pct Level 1        33461 non-null  object\n",
      " 8   Num Level 2        33461 non-null  object\n",
      " 9   Pct Level 2        33461 non-null  object\n",
      " 10  Num Level 3        33461 non-null  object\n",
      " 11  Pct Level 3        33461 non-null  object\n",
      " 12  Num Level 4        33461 non-null  object\n",
      " 13  Pct Level 4        33461 non-null  object\n",
      " 14  Num Level 3 and 4  33461 non-null  object\n",
      " 15  Pct Level 3 and 4  33461 non-null  object\n",
      "dtypes: int64(2), object(14)\n",
      "memory usage: 4.1+ MB\n"
     ]
    }
   ],
   "source": [
    "math_results_df.info()"
   ]
  },
  {
   "cell_type": "code",
   "execution_count": 141,
   "id": "8726a3c0",
   "metadata": {},
   "outputs": [
    {
     "data": {
      "text/plain": [
       "DBN                  False\n",
       "Grade                False\n",
       "Year                 False\n",
       "Demographic          False\n",
       "Number Tested        False\n",
       "Mean Scale Score      True\n",
       "Num Level 1          False\n",
       "Pct Level 1          False\n",
       "Num Level 2          False\n",
       "Pct Level 2          False\n",
       "Num Level 3          False\n",
       "Pct Level 3          False\n",
       "Num Level 4          False\n",
       "Pct Level 4          False\n",
       "Num Level 3 and 4    False\n",
       "Pct Level 3 and 4    False\n",
       "dtype: bool"
      ]
     },
     "execution_count": 141,
     "metadata": {},
     "output_type": "execute_result"
    }
   ],
   "source": [
    "math_results_df.isnull().any()"
   ]
  },
  {
   "cell_type": "markdown",
   "id": "d748d75f",
   "metadata": {},
   "source": [
    "# Cleaning\n",
    "### DBN\n",
    "I'm going to start with DBN.  \n",
    "This number is the combination of the District Number, the letter code for the borough, and the number of the school.  \n",
    "I will split this column into 3 different columns"
   ]
  },
  {
   "cell_type": "code",
   "execution_count": 142,
   "id": "c935f7dd",
   "metadata": {},
   "outputs": [
    {
     "data": {
      "text/html": [
       "<div>\n",
       "<style scoped>\n",
       "    .dataframe tbody tr th:only-of-type {\n",
       "        vertical-align: middle;\n",
       "    }\n",
       "\n",
       "    .dataframe tbody tr th {\n",
       "        vertical-align: top;\n",
       "    }\n",
       "\n",
       "    .dataframe thead th {\n",
       "        text-align: right;\n",
       "    }\n",
       "</style>\n",
       "<table border=\"1\" class=\"dataframe\">\n",
       "  <thead>\n",
       "    <tr style=\"text-align: right;\">\n",
       "      <th></th>\n",
       "      <th>Grade</th>\n",
       "      <th>Year</th>\n",
       "      <th>Demographic</th>\n",
       "      <th>Number Tested</th>\n",
       "      <th>Mean Scale Score</th>\n",
       "      <th>Num Level 1</th>\n",
       "      <th>Pct Level 1</th>\n",
       "      <th>Num Level 2</th>\n",
       "      <th>Pct Level 2</th>\n",
       "      <th>Num Level 3</th>\n",
       "      <th>Pct Level 3</th>\n",
       "      <th>Num Level 4</th>\n",
       "      <th>Pct Level 4</th>\n",
       "      <th>Num Level 3 and 4</th>\n",
       "      <th>Pct Level 3 and 4</th>\n",
       "      <th>District Number</th>\n",
       "      <th>Borough Number</th>\n",
       "      <th>School Number</th>\n",
       "    </tr>\n",
       "  </thead>\n",
       "  <tbody>\n",
       "    <tr>\n",
       "      <th>0</th>\n",
       "      <td>3</td>\n",
       "      <td>2006</td>\n",
       "      <td>All Students</td>\n",
       "      <td>39</td>\n",
       "      <td>667</td>\n",
       "      <td>2</td>\n",
       "      <td>5.1</td>\n",
       "      <td>11</td>\n",
       "      <td>28.2</td>\n",
       "      <td>20</td>\n",
       "      <td>51.3</td>\n",
       "      <td>6</td>\n",
       "      <td>15.4</td>\n",
       "      <td>26</td>\n",
       "      <td>66.7</td>\n",
       "      <td>01</td>\n",
       "      <td>M</td>\n",
       "      <td>015</td>\n",
       "    </tr>\n",
       "    <tr>\n",
       "      <th>1</th>\n",
       "      <td>3</td>\n",
       "      <td>2007</td>\n",
       "      <td>All Students</td>\n",
       "      <td>31</td>\n",
       "      <td>672</td>\n",
       "      <td>2</td>\n",
       "      <td>6.5</td>\n",
       "      <td>3</td>\n",
       "      <td>9.7</td>\n",
       "      <td>22</td>\n",
       "      <td>71</td>\n",
       "      <td>4</td>\n",
       "      <td>12.9</td>\n",
       "      <td>26</td>\n",
       "      <td>83.9</td>\n",
       "      <td>01</td>\n",
       "      <td>M</td>\n",
       "      <td>015</td>\n",
       "    </tr>\n",
       "    <tr>\n",
       "      <th>2</th>\n",
       "      <td>3</td>\n",
       "      <td>2008</td>\n",
       "      <td>All Students</td>\n",
       "      <td>37</td>\n",
       "      <td>668</td>\n",
       "      <td>0</td>\n",
       "      <td>0</td>\n",
       "      <td>6</td>\n",
       "      <td>16.2</td>\n",
       "      <td>29</td>\n",
       "      <td>78.4</td>\n",
       "      <td>2</td>\n",
       "      <td>5.4</td>\n",
       "      <td>31</td>\n",
       "      <td>83.8</td>\n",
       "      <td>01</td>\n",
       "      <td>M</td>\n",
       "      <td>015</td>\n",
       "    </tr>\n",
       "    <tr>\n",
       "      <th>3</th>\n",
       "      <td>3</td>\n",
       "      <td>2009</td>\n",
       "      <td>All Students</td>\n",
       "      <td>33</td>\n",
       "      <td>668</td>\n",
       "      <td>0</td>\n",
       "      <td>0</td>\n",
       "      <td>4</td>\n",
       "      <td>12.1</td>\n",
       "      <td>28</td>\n",
       "      <td>84.8</td>\n",
       "      <td>1</td>\n",
       "      <td>3</td>\n",
       "      <td>29</td>\n",
       "      <td>87.9</td>\n",
       "      <td>01</td>\n",
       "      <td>M</td>\n",
       "      <td>015</td>\n",
       "    </tr>\n",
       "    <tr>\n",
       "      <th>4</th>\n",
       "      <td>3</td>\n",
       "      <td>2010</td>\n",
       "      <td>All Students</td>\n",
       "      <td>26</td>\n",
       "      <td>677</td>\n",
       "      <td>6</td>\n",
       "      <td>23.1</td>\n",
       "      <td>12</td>\n",
       "      <td>46.2</td>\n",
       "      <td>6</td>\n",
       "      <td>23.1</td>\n",
       "      <td>2</td>\n",
       "      <td>7.7</td>\n",
       "      <td>8</td>\n",
       "      <td>30.8</td>\n",
       "      <td>01</td>\n",
       "      <td>M</td>\n",
       "      <td>015</td>\n",
       "    </tr>\n",
       "  </tbody>\n",
       "</table>\n",
       "</div>"
      ],
      "text/plain": [
       "  Grade  Year   Demographic  Number Tested Mean Scale Score Num Level 1  \\\n",
       "0     3  2006  All Students             39              667           2   \n",
       "1     3  2007  All Students             31              672           2   \n",
       "2     3  2008  All Students             37              668           0   \n",
       "3     3  2009  All Students             33              668           0   \n",
       "4     3  2010  All Students             26              677           6   \n",
       "\n",
       "  Pct Level 1 Num Level 2 Pct Level 2 Num Level 3 Pct Level 3 Num Level 4  \\\n",
       "0         5.1          11        28.2          20        51.3           6   \n",
       "1         6.5           3         9.7          22          71           4   \n",
       "2           0           6        16.2          29        78.4           2   \n",
       "3           0           4        12.1          28        84.8           1   \n",
       "4        23.1          12        46.2           6        23.1           2   \n",
       "\n",
       "  Pct Level 4 Num Level 3 and 4 Pct Level 3 and 4 District Number  \\\n",
       "0        15.4                26              66.7              01   \n",
       "1        12.9                26              83.9              01   \n",
       "2         5.4                31              83.8              01   \n",
       "3           3                29              87.9              01   \n",
       "4         7.7                 8              30.8              01   \n",
       "\n",
       "  Borough Number School Number  \n",
       "0              M           015  \n",
       "1              M           015  \n",
       "2              M           015  \n",
       "3              M           015  \n",
       "4              M           015  "
      ]
     },
     "execution_count": 142,
     "metadata": {},
     "output_type": "execute_result"
    }
   ],
   "source": [
    "math_results_df['District Number'] = math_results_df['DBN'].apply(lambda x: x[:2])\n",
    "math_results_df['Borough Number'] = math_results_df['DBN'].apply(lambda x: x[2])\n",
    "math_results_df['School Number'] = math_results_df['DBN'].apply(lambda x: x[3:])\n",
    "math_results_df.drop('DBN', axis=1, inplace=True)\n",
    "\n",
    "math_results_df.head()"
   ]
  },
  {
   "cell_type": "markdown",
   "id": "09c4e90c",
   "metadata": {},
   "source": [
    "The Borough Number exists out of a couple different letters"
   ]
  },
  {
   "cell_type": "code",
   "execution_count": 143,
   "id": "f4d6ac42",
   "metadata": {},
   "outputs": [
    {
     "data": {
      "text/plain": [
       "array(['M', 'X', 'K', 'Q', 'R'], dtype=object)"
      ]
     },
     "execution_count": 143,
     "metadata": {},
     "output_type": "execute_result"
    }
   ],
   "source": [
    "math_results_df['Borough Number'].unique()"
   ]
  },
  {
   "cell_type": "markdown",
   "id": "3f3fd4cc",
   "metadata": {},
   "source": [
    "I will use encoding to replace these letters with integers."
   ]
  },
  {
   "cell_type": "code",
   "execution_count": 144,
   "id": "ab299f25",
   "metadata": {},
   "outputs": [
    {
     "data": {
      "text/plain": [
       "array([0, 1, 2, 3, 4])"
      ]
     },
     "execution_count": 144,
     "metadata": {},
     "output_type": "execute_result"
    }
   ],
   "source": [
    "encoding = {'M':0, 'X':1, 'K':2, 'Q':3, 'R':4}\n",
    "math_results_df['Borough Number'] = math_results_df['Borough Number'].replace(encoding)\n",
    "math_results_df['Borough Number'].unique()"
   ]
  },
  {
   "cell_type": "markdown",
   "id": "687d9606",
   "metadata": {},
   "source": [
    "### Grade\n",
    "Next we have the Grade  \n",
    "Let's check all the unique values"
   ]
  },
  {
   "cell_type": "code",
   "execution_count": 145,
   "id": "86ba1420",
   "metadata": {},
   "outputs": [
    {
     "data": {
      "text/plain": [
       "array(['3', '4', '5', '6', 'All Grades', '7', '8'], dtype=object)"
      ]
     },
     "execution_count": 145,
     "metadata": {},
     "output_type": "execute_result"
    }
   ],
   "source": [
    "math_results_df['Grade'].unique()"
   ]
  },
  {
   "cell_type": "markdown",
   "id": "deb3f1ae",
   "metadata": {},
   "source": [
    "These are all integers exept \"All Grades\"  \n",
    "I will replace this string with the number 0 as encoding\n",
    "Next convert the dtype of the column from object to int."
   ]
  },
  {
   "cell_type": "code",
   "execution_count": 146,
   "id": "7a549922",
   "metadata": {},
   "outputs": [
    {
     "data": {
      "text/plain": [
       "array([3, 4, 5, 6, 0, 7, 8])"
      ]
     },
     "execution_count": 146,
     "metadata": {},
     "output_type": "execute_result"
    }
   ],
   "source": [
    "math_results_df['Grade'] = math_results_df['Grade'].replace(\"All Grades\", 0)\n",
    "math_results_df['Grade'] = math_results_df['Grade'].astype(\"int\")\n",
    "math_results_df['Grade'].unique()"
   ]
  },
  {
   "cell_type": "markdown",
   "id": "abe21c49",
   "metadata": {},
   "source": [
    "### Year\n",
    "I will do the same and check all the unique values first.  \n",
    "This doesn't need cleaning and the dtype is already int"
   ]
  },
  {
   "cell_type": "code",
   "execution_count": 147,
   "id": "0e9ae6f0",
   "metadata": {},
   "outputs": [
    {
     "data": {
      "text/plain": [
       "array([2006, 2007, 2008, 2009, 2010, 2011, 2012])"
      ]
     },
     "execution_count": 147,
     "metadata": {},
     "output_type": "execute_result"
    }
   ],
   "source": [
    "math_results_df['Year'].unique()"
   ]
  },
  {
   "cell_type": "markdown",
   "id": "e1b45b28",
   "metadata": {},
   "source": [
    "### Demographic\n",
    "This column has a constant value so we can delete this because it's not useful"
   ]
  },
  {
   "cell_type": "code",
   "execution_count": 148,
   "id": "f3c4a5ba",
   "metadata": {},
   "outputs": [
    {
     "data": {
      "text/plain": [
       "array(['All Students'], dtype=object)"
      ]
     },
     "execution_count": 148,
     "metadata": {},
     "output_type": "execute_result"
    }
   ],
   "source": [
    "math_results_df['Demographic'].unique()"
   ]
  },
  {
   "cell_type": "code",
   "execution_count": 149,
   "id": "f25cd7a0",
   "metadata": {},
   "outputs": [],
   "source": [
    "math_results_df.drop('Demographic', axis=1, inplace=True)"
   ]
  },
  {
   "cell_type": "markdown",
   "id": "5c675c0c",
   "metadata": {},
   "source": [
    "### Number Tested\n",
    "Every value in this column has to be an int.  \n",
    "This function checks this and return all the values that are not an int  "
   ]
  },
  {
   "cell_type": "code",
   "execution_count": 150,
   "id": "ed3ad24a",
   "metadata": {},
   "outputs": [
    {
     "data": {
      "text/plain": [
       "[]"
      ]
     },
     "execution_count": 150,
     "metadata": {},
     "output_type": "execute_result"
    }
   ],
   "source": [
    "math_results_df.loc[~math_results_df['Number Tested'].astype(str).str.isdigit(), 'Number Tested'].tolist()"
   ]
  },
  {
   "cell_type": "code",
   "execution_count": 151,
   "id": "90368b98",
   "metadata": {},
   "outputs": [
    {
     "data": {
      "text/plain": [
       "count    33461.000000\n",
       "mean       172.754132\n",
       "std        197.130818\n",
       "min          1.000000\n",
       "25%         65.000000\n",
       "50%        106.000000\n",
       "75%        204.000000\n",
       "max       2282.000000\n",
       "Name: Number Tested, dtype: float64"
      ]
     },
     "execution_count": 151,
     "metadata": {},
     "output_type": "execute_result"
    }
   ],
   "source": [
    "math_results_df['Number Tested'].describe()"
   ]
  },
  {
   "cell_type": "markdown",
   "id": "8ac7c44b",
   "metadata": {},
   "source": [
    "### Mean Scale Score\n",
    "This column does not only exists out of integers."
   ]
  },
  {
   "cell_type": "code",
   "execution_count": 152,
   "id": "c61dc6c6",
   "metadata": {},
   "outputs": [
    {
     "data": {
      "text/plain": [
       "{nan, 's'}"
      ]
     },
     "execution_count": 152,
     "metadata": {},
     "output_type": "execute_result"
    }
   ],
   "source": [
    "non_int = math_results_df.loc[~math_results_df['Mean Scale Score'].astype(str).str.isdigit(),\n",
    "                              'Mean Scale Score'].tolist()\n",
    "set(non_int)"
   ]
  },
  {
   "cell_type": "code",
   "execution_count": 153,
   "id": "2776ca0f",
   "metadata": {},
   "outputs": [
    {
     "name": "stdout",
     "output_type": "stream",
     "text": [
      "amount of wrong values: s    471\n",
      "dtype: int64\n",
      "amount of nan values: 5355\n"
     ]
    }
   ],
   "source": [
    "print(\"amount of wrong values: \" + str(pd.Series(non_int).value_counts()))\n",
    "print(\"amount of nan values: \" + str(pd.Series(non_int).isna().sum()))"
   ]
  },
  {
   "cell_type": "markdown",
   "id": "ddce6c32",
   "metadata": {},
   "source": [
    "I will drop all these rows because this is an important number and cannot be guessed"
   ]
  },
  {
   "cell_type": "code",
   "execution_count": 154,
   "id": "e5aea830",
   "metadata": {},
   "outputs": [
    {
     "data": {
      "text/plain": [
       "(28106, 17)"
      ]
     },
     "execution_count": 154,
     "metadata": {},
     "output_type": "execute_result"
    }
   ],
   "source": [
    "# drop all NaN values\n",
    "math_results_df = math_results_df.dropna(subset = ['Mean Scale Score'])\n",
    "math_results_df.shape"
   ]
  },
  {
   "cell_type": "code",
   "execution_count": 155,
   "id": "a7d2c01f",
   "metadata": {},
   "outputs": [
    {
     "data": {
      "text/plain": [
       "(27635, 17)"
      ]
     },
     "execution_count": 155,
     "metadata": {},
     "output_type": "execute_result"
    }
   ],
   "source": [
    "# drop all not integer values\n",
    "\n",
    "math_results_df = math_results_df[math_results_df['Mean Scale Score'].apply(lambda x: str(x).isdigit())]\n",
    "math_results_df.shape"
   ]
  },
  {
   "cell_type": "markdown",
   "id": "81a27f12",
   "metadata": {},
   "source": [
    "### Num Level x\n",
    "The columns 'Num Level 3 and 4' and 'Pct Level 3 and 4' are redundant so I will delete these.  \n",
    "First check if there are any NaN values in these columns"
   ]
  },
  {
   "cell_type": "code",
   "execution_count": 156,
   "id": "7fbdb924",
   "metadata": {},
   "outputs": [
    {
     "name": "stdout",
     "output_type": "stream",
     "text": [
      "Num Level 1 NaN: 0\n",
      "Num Level 2 NaN: 0\n",
      "Num Level 3 NaN: 0\n",
      "Num Level 4 NaN: 0\n"
     ]
    }
   ],
   "source": [
    "math_results_df.drop('Num Level 3 and 4', axis=1, inplace=True)\n",
    "math_results_df.drop('Pct Level 3 and 4', axis=1, inplace=True)\n",
    "print(\"Num Level 1 NaN: \" + str(math_results_df['Num Level 1'].isna().sum()))\n",
    "print(\"Num Level 2 NaN: \" + str(math_results_df['Num Level 2'].isna().sum()))\n",
    "print(\"Num Level 3 NaN: \" + str(math_results_df['Num Level 3'].isna().sum()))\n",
    "print(\"Num Level 4 NaN: \" + str(math_results_df['Num Level 4'].isna().sum()))"
   ]
  },
  {
   "cell_type": "markdown",
   "id": "b6b41e48",
   "metadata": {},
   "source": [
    "No NaN values found!  \n",
    "Let's convert the columns to int columns"
   ]
  },
  {
   "cell_type": "code",
   "execution_count": 157,
   "id": "f912647c",
   "metadata": {},
   "outputs": [
    {
     "name": "stdout",
     "output_type": "stream",
     "text": [
      "<class 'pandas.core.frame.DataFrame'>\n",
      "Int64Index: 27635 entries, 0 to 33460\n",
      "Data columns (total 15 columns):\n",
      " #   Column            Non-Null Count  Dtype \n",
      "---  ------            --------------  ----- \n",
      " 0   Grade             27635 non-null  int64 \n",
      " 1   Year              27635 non-null  int64 \n",
      " 2   Number Tested     27635 non-null  int64 \n",
      " 3   Mean Scale Score  27635 non-null  object\n",
      " 4   Num Level 1       27635 non-null  int64 \n",
      " 5   Pct Level 1       27635 non-null  object\n",
      " 6   Num Level 2       27635 non-null  int64 \n",
      " 7   Pct Level 2       27635 non-null  object\n",
      " 8   Num Level 3       27635 non-null  int64 \n",
      " 9   Pct Level 3       27635 non-null  object\n",
      " 10  Num Level 4       27635 non-null  int64 \n",
      " 11  Pct Level 4       27635 non-null  object\n",
      " 12  District Number   27635 non-null  object\n",
      " 13  Borough Number    27635 non-null  int64 \n",
      " 14  School Number     27635 non-null  object\n",
      "dtypes: int64(8), object(7)\n",
      "memory usage: 3.4+ MB\n"
     ]
    }
   ],
   "source": [
    "math_results_df['Num Level 1'] = math_results_df['Num Level 1'].astype(\"int\")\n",
    "math_results_df['Num Level 2'] = math_results_df['Num Level 2'].astype(\"int\")\n",
    "math_results_df['Num Level 3'] = math_results_df['Num Level 3'].astype(\"int\")\n",
    "math_results_df['Num Level 4'] = math_results_df['Num Level 4'].astype(\"int\")\n",
    "math_results_df.info()"
   ]
  },
  {
   "cell_type": "markdown",
   "id": "d16a6dd2",
   "metadata": {},
   "source": [
    "### Pct Level x\n",
    "I will check again if there are Nan values in these columns"
   ]
  },
  {
   "cell_type": "code",
   "execution_count": 158,
   "id": "50928f71",
   "metadata": {},
   "outputs": [
    {
     "name": "stdout",
     "output_type": "stream",
     "text": [
      "Pct Level 1 NaN: 0\n",
      "Pct Level 2 NaN: 0\n",
      "Pct Level 3 NaN: 0\n",
      "Pct Level 4 NaN: 0\n"
     ]
    }
   ],
   "source": [
    "print(\"Pct Level 1 NaN: \" + str(math_results_df['Pct Level 1'].isna().sum()))\n",
    "print(\"Pct Level 2 NaN: \" + str(math_results_df['Pct Level 2'].isna().sum()))\n",
    "print(\"Pct Level 3 NaN: \" + str(math_results_df['Pct Level 3'].isna().sum()))\n",
    "print(\"Pct Level 4 NaN: \" + str(math_results_df['Pct Level 4'].isna().sum()))"
   ]
  },
  {
   "cell_type": "markdown",
   "id": "f9db51ba",
   "metadata": {},
   "source": [
    "nowp no NaN's  \n",
    "We can convert these columns to float"
   ]
  },
  {
   "cell_type": "code",
   "execution_count": 159,
   "id": "eba660c1",
   "metadata": {
    "scrolled": false
   },
   "outputs": [
    {
     "name": "stdout",
     "output_type": "stream",
     "text": [
      "<class 'pandas.core.frame.DataFrame'>\n",
      "Int64Index: 27635 entries, 0 to 33460\n",
      "Data columns (total 15 columns):\n",
      " #   Column            Non-Null Count  Dtype  \n",
      "---  ------            --------------  -----  \n",
      " 0   Grade             27635 non-null  int64  \n",
      " 1   Year              27635 non-null  int64  \n",
      " 2   Number Tested     27635 non-null  int64  \n",
      " 3   Mean Scale Score  27635 non-null  object \n",
      " 4   Num Level 1       27635 non-null  int64  \n",
      " 5   Pct Level 1       27635 non-null  float64\n",
      " 6   Num Level 2       27635 non-null  int64  \n",
      " 7   Pct Level 2       27635 non-null  float64\n",
      " 8   Num Level 3       27635 non-null  int64  \n",
      " 9   Pct Level 3       27635 non-null  float64\n",
      " 10  Num Level 4       27635 non-null  int64  \n",
      " 11  Pct Level 4       27635 non-null  float64\n",
      " 12  District Number   27635 non-null  object \n",
      " 13  Borough Number    27635 non-null  int64  \n",
      " 14  School Number     27635 non-null  object \n",
      "dtypes: float64(4), int64(8), object(3)\n",
      "memory usage: 3.4+ MB\n"
     ]
    }
   ],
   "source": [
    "math_results_df['Pct Level 1'] = math_results_df['Pct Level 1'].astype(\"float\")\n",
    "math_results_df['Pct Level 2'] = math_results_df['Pct Level 2'].astype(\"float\")\n",
    "math_results_df['Pct Level 3'] = math_results_df['Pct Level 3'].astype(\"float\")\n",
    "math_results_df['Pct Level 4'] = math_results_df['Pct Level 4'].astype(\"float\")\n",
    "\n",
    "math_results_df.info()"
   ]
  },
  {
   "cell_type": "markdown",
   "id": "20d999f3",
   "metadata": {},
   "source": [
    "Because these values are percent values, the values should fall in between 0 and 100.  \n",
    "We can see that this is fine!"
   ]
  },
  {
   "cell_type": "code",
   "execution_count": 160,
   "id": "24560222",
   "metadata": {
    "scrolled": true
   },
   "outputs": [
    {
     "name": "stdout",
     "output_type": "stream",
     "text": [
      "min pct level 1: 0.0\n",
      "min pct level 2: 0.0\n",
      "min pct level 3: 0.0\n",
      "min pct level 4: 0.0\n",
      "max pct level 1: 100.0\n",
      "max pct level 2: 100.0\n",
      "max pct level 3: 100.0\n",
      "max pct level 4: 100.0\n"
     ]
    }
   ],
   "source": [
    "print(\"min pct level 1: \" + str(math_results_df['Pct Level 1'].min()))\n",
    "print(\"min pct level 2: \" + str(math_results_df['Pct Level 2'].min()))\n",
    "print(\"min pct level 3: \" + str(math_results_df['Pct Level 3'].min()))\n",
    "print(\"min pct level 4: \" + str(math_results_df['Pct Level 4'].min()))\n",
    "\n",
    "print(\"max pct level 1: \" + str(math_results_df['Pct Level 1'].max()))\n",
    "print(\"max pct level 2: \" + str(math_results_df['Pct Level 2'].max()))\n",
    "print(\"max pct level 3: \" + str(math_results_df['Pct Level 3'].max()))\n",
    "print(\"max pct level 4: \" + str(math_results_df['Pct Level 4'].max()))"
   ]
  },
  {
   "cell_type": "markdown",
   "id": "d807c767",
   "metadata": {},
   "source": [
    "The data is cleaned and this is the resulted dataframe:  \n",
    "Next, we can start data exploration"
   ]
  },
  {
   "cell_type": "code",
   "execution_count": 161,
   "id": "5a3af88e",
   "metadata": {},
   "outputs": [
    {
     "data": {
      "text/html": [
       "<div>\n",
       "<style scoped>\n",
       "    .dataframe tbody tr th:only-of-type {\n",
       "        vertical-align: middle;\n",
       "    }\n",
       "\n",
       "    .dataframe tbody tr th {\n",
       "        vertical-align: top;\n",
       "    }\n",
       "\n",
       "    .dataframe thead th {\n",
       "        text-align: right;\n",
       "    }\n",
       "</style>\n",
       "<table border=\"1\" class=\"dataframe\">\n",
       "  <thead>\n",
       "    <tr style=\"text-align: right;\">\n",
       "      <th></th>\n",
       "      <th>Grade</th>\n",
       "      <th>Year</th>\n",
       "      <th>Number Tested</th>\n",
       "      <th>Mean Scale Score</th>\n",
       "      <th>Num Level 1</th>\n",
       "      <th>Pct Level 1</th>\n",
       "      <th>Num Level 2</th>\n",
       "      <th>Pct Level 2</th>\n",
       "      <th>Num Level 3</th>\n",
       "      <th>Pct Level 3</th>\n",
       "      <th>Num Level 4</th>\n",
       "      <th>Pct Level 4</th>\n",
       "      <th>District Number</th>\n",
       "      <th>Borough Number</th>\n",
       "      <th>School Number</th>\n",
       "    </tr>\n",
       "  </thead>\n",
       "  <tbody>\n",
       "    <tr>\n",
       "      <th>0</th>\n",
       "      <td>3</td>\n",
       "      <td>2006</td>\n",
       "      <td>39</td>\n",
       "      <td>667</td>\n",
       "      <td>2</td>\n",
       "      <td>5.1</td>\n",
       "      <td>11</td>\n",
       "      <td>28.2</td>\n",
       "      <td>20</td>\n",
       "      <td>51.3</td>\n",
       "      <td>6</td>\n",
       "      <td>15.4</td>\n",
       "      <td>01</td>\n",
       "      <td>0</td>\n",
       "      <td>015</td>\n",
       "    </tr>\n",
       "    <tr>\n",
       "      <th>1</th>\n",
       "      <td>3</td>\n",
       "      <td>2007</td>\n",
       "      <td>31</td>\n",
       "      <td>672</td>\n",
       "      <td>2</td>\n",
       "      <td>6.5</td>\n",
       "      <td>3</td>\n",
       "      <td>9.7</td>\n",
       "      <td>22</td>\n",
       "      <td>71.0</td>\n",
       "      <td>4</td>\n",
       "      <td>12.9</td>\n",
       "      <td>01</td>\n",
       "      <td>0</td>\n",
       "      <td>015</td>\n",
       "    </tr>\n",
       "    <tr>\n",
       "      <th>2</th>\n",
       "      <td>3</td>\n",
       "      <td>2008</td>\n",
       "      <td>37</td>\n",
       "      <td>668</td>\n",
       "      <td>0</td>\n",
       "      <td>0.0</td>\n",
       "      <td>6</td>\n",
       "      <td>16.2</td>\n",
       "      <td>29</td>\n",
       "      <td>78.4</td>\n",
       "      <td>2</td>\n",
       "      <td>5.4</td>\n",
       "      <td>01</td>\n",
       "      <td>0</td>\n",
       "      <td>015</td>\n",
       "    </tr>\n",
       "    <tr>\n",
       "      <th>3</th>\n",
       "      <td>3</td>\n",
       "      <td>2009</td>\n",
       "      <td>33</td>\n",
       "      <td>668</td>\n",
       "      <td>0</td>\n",
       "      <td>0.0</td>\n",
       "      <td>4</td>\n",
       "      <td>12.1</td>\n",
       "      <td>28</td>\n",
       "      <td>84.8</td>\n",
       "      <td>1</td>\n",
       "      <td>3.0</td>\n",
       "      <td>01</td>\n",
       "      <td>0</td>\n",
       "      <td>015</td>\n",
       "    </tr>\n",
       "    <tr>\n",
       "      <th>4</th>\n",
       "      <td>3</td>\n",
       "      <td>2010</td>\n",
       "      <td>26</td>\n",
       "      <td>677</td>\n",
       "      <td>6</td>\n",
       "      <td>23.1</td>\n",
       "      <td>12</td>\n",
       "      <td>46.2</td>\n",
       "      <td>6</td>\n",
       "      <td>23.1</td>\n",
       "      <td>2</td>\n",
       "      <td>7.7</td>\n",
       "      <td>01</td>\n",
       "      <td>0</td>\n",
       "      <td>015</td>\n",
       "    </tr>\n",
       "    <tr>\n",
       "      <th>...</th>\n",
       "      <td>...</td>\n",
       "      <td>...</td>\n",
       "      <td>...</td>\n",
       "      <td>...</td>\n",
       "      <td>...</td>\n",
       "      <td>...</td>\n",
       "      <td>...</td>\n",
       "      <td>...</td>\n",
       "      <td>...</td>\n",
       "      <td>...</td>\n",
       "      <td>...</td>\n",
       "      <td>...</td>\n",
       "      <td>...</td>\n",
       "      <td>...</td>\n",
       "      <td>...</td>\n",
       "    </tr>\n",
       "    <tr>\n",
       "      <th>33451</th>\n",
       "      <td>8</td>\n",
       "      <td>2010</td>\n",
       "      <td>38</td>\n",
       "      <td>598</td>\n",
       "      <td>32</td>\n",
       "      <td>84.2</td>\n",
       "      <td>6</td>\n",
       "      <td>15.8</td>\n",
       "      <td>0</td>\n",
       "      <td>0.0</td>\n",
       "      <td>0</td>\n",
       "      <td>0.0</td>\n",
       "      <td>75</td>\n",
       "      <td>1</td>\n",
       "      <td>723</td>\n",
       "    </tr>\n",
       "    <tr>\n",
       "      <th>33452</th>\n",
       "      <td>8</td>\n",
       "      <td>2011</td>\n",
       "      <td>32</td>\n",
       "      <td>595</td>\n",
       "      <td>24</td>\n",
       "      <td>75.0</td>\n",
       "      <td>7</td>\n",
       "      <td>21.9</td>\n",
       "      <td>1</td>\n",
       "      <td>3.1</td>\n",
       "      <td>0</td>\n",
       "      <td>0.0</td>\n",
       "      <td>75</td>\n",
       "      <td>1</td>\n",
       "      <td>723</td>\n",
       "    </tr>\n",
       "    <tr>\n",
       "      <th>33453</th>\n",
       "      <td>8</td>\n",
       "      <td>2012</td>\n",
       "      <td>17</td>\n",
       "      <td>632</td>\n",
       "      <td>8</td>\n",
       "      <td>47.1</td>\n",
       "      <td>9</td>\n",
       "      <td>52.9</td>\n",
       "      <td>0</td>\n",
       "      <td>0.0</td>\n",
       "      <td>0</td>\n",
       "      <td>0.0</td>\n",
       "      <td>75</td>\n",
       "      <td>1</td>\n",
       "      <td>723</td>\n",
       "    </tr>\n",
       "    <tr>\n",
       "      <th>33459</th>\n",
       "      <td>0</td>\n",
       "      <td>2011</td>\n",
       "      <td>229</td>\n",
       "      <td>617</td>\n",
       "      <td>153</td>\n",
       "      <td>66.8</td>\n",
       "      <td>67</td>\n",
       "      <td>29.3</td>\n",
       "      <td>8</td>\n",
       "      <td>3.5</td>\n",
       "      <td>1</td>\n",
       "      <td>0.4</td>\n",
       "      <td>75</td>\n",
       "      <td>1</td>\n",
       "      <td>723</td>\n",
       "    </tr>\n",
       "    <tr>\n",
       "      <th>33460</th>\n",
       "      <td>0</td>\n",
       "      <td>2012</td>\n",
       "      <td>213</td>\n",
       "      <td>620</td>\n",
       "      <td>142</td>\n",
       "      <td>66.7</td>\n",
       "      <td>67</td>\n",
       "      <td>31.5</td>\n",
       "      <td>4</td>\n",
       "      <td>1.9</td>\n",
       "      <td>0</td>\n",
       "      <td>0.0</td>\n",
       "      <td>75</td>\n",
       "      <td>1</td>\n",
       "      <td>723</td>\n",
       "    </tr>\n",
       "  </tbody>\n",
       "</table>\n",
       "<p>27635 rows × 15 columns</p>\n",
       "</div>"
      ],
      "text/plain": [
       "       Grade  Year  Number Tested Mean Scale Score  Num Level 1  Pct Level 1  \\\n",
       "0          3  2006             39              667            2          5.1   \n",
       "1          3  2007             31              672            2          6.5   \n",
       "2          3  2008             37              668            0          0.0   \n",
       "3          3  2009             33              668            0          0.0   \n",
       "4          3  2010             26              677            6         23.1   \n",
       "...      ...   ...            ...              ...          ...          ...   \n",
       "33451      8  2010             38              598           32         84.2   \n",
       "33452      8  2011             32              595           24         75.0   \n",
       "33453      8  2012             17              632            8         47.1   \n",
       "33459      0  2011            229              617          153         66.8   \n",
       "33460      0  2012            213              620          142         66.7   \n",
       "\n",
       "       Num Level 2  Pct Level 2  Num Level 3  Pct Level 3  Num Level 4  \\\n",
       "0               11         28.2           20         51.3            6   \n",
       "1                3          9.7           22         71.0            4   \n",
       "2                6         16.2           29         78.4            2   \n",
       "3                4         12.1           28         84.8            1   \n",
       "4               12         46.2            6         23.1            2   \n",
       "...            ...          ...          ...          ...          ...   \n",
       "33451            6         15.8            0          0.0            0   \n",
       "33452            7         21.9            1          3.1            0   \n",
       "33453            9         52.9            0          0.0            0   \n",
       "33459           67         29.3            8          3.5            1   \n",
       "33460           67         31.5            4          1.9            0   \n",
       "\n",
       "       Pct Level 4 District Number  Borough Number School Number  \n",
       "0             15.4              01               0           015  \n",
       "1             12.9              01               0           015  \n",
       "2              5.4              01               0           015  \n",
       "3              3.0              01               0           015  \n",
       "4              7.7              01               0           015  \n",
       "...            ...             ...             ...           ...  \n",
       "33451          0.0              75               1           723  \n",
       "33452          0.0              75               1           723  \n",
       "33453          0.0              75               1           723  \n",
       "33459          0.4              75               1           723  \n",
       "33460          0.0              75               1           723  \n",
       "\n",
       "[27635 rows x 15 columns]"
      ]
     },
     "execution_count": 161,
     "metadata": {},
     "output_type": "execute_result"
    }
   ],
   "source": [
    "math_results_df"
   ]
  },
  {
   "cell_type": "markdown",
   "id": "ebf7a525",
   "metadata": {},
   "source": [
    "After a closer look, I found out that data from students in all grades took together is also redundant data.  \n",
    "I will remove those columns because this is not usefull for my prediction"
   ]
  },
  {
   "cell_type": "code",
   "execution_count": 165,
   "id": "ba8d1729",
   "metadata": {},
   "outputs": [
    {
     "data": {
      "text/html": [
       "<div>\n",
       "<style scoped>\n",
       "    .dataframe tbody tr th:only-of-type {\n",
       "        vertical-align: middle;\n",
       "    }\n",
       "\n",
       "    .dataframe tbody tr th {\n",
       "        vertical-align: top;\n",
       "    }\n",
       "\n",
       "    .dataframe thead th {\n",
       "        text-align: right;\n",
       "    }\n",
       "</style>\n",
       "<table border=\"1\" class=\"dataframe\">\n",
       "  <thead>\n",
       "    <tr style=\"text-align: right;\">\n",
       "      <th></th>\n",
       "      <th>Grade</th>\n",
       "      <th>Year</th>\n",
       "      <th>Number Tested</th>\n",
       "      <th>Mean Scale Score</th>\n",
       "      <th>Num Level 1</th>\n",
       "      <th>Pct Level 1</th>\n",
       "      <th>Num Level 2</th>\n",
       "      <th>Pct Level 2</th>\n",
       "      <th>Num Level 3</th>\n",
       "      <th>Pct Level 3</th>\n",
       "      <th>Num Level 4</th>\n",
       "      <th>Pct Level 4</th>\n",
       "      <th>District Number</th>\n",
       "      <th>Borough Number</th>\n",
       "      <th>School Number</th>\n",
       "    </tr>\n",
       "  </thead>\n",
       "  <tbody>\n",
       "    <tr>\n",
       "      <th>0</th>\n",
       "      <td>3</td>\n",
       "      <td>2006</td>\n",
       "      <td>39</td>\n",
       "      <td>667</td>\n",
       "      <td>2</td>\n",
       "      <td>5.1</td>\n",
       "      <td>11</td>\n",
       "      <td>28.2</td>\n",
       "      <td>20</td>\n",
       "      <td>51.3</td>\n",
       "      <td>6</td>\n",
       "      <td>15.4</td>\n",
       "      <td>01</td>\n",
       "      <td>0</td>\n",
       "      <td>015</td>\n",
       "    </tr>\n",
       "    <tr>\n",
       "      <th>1</th>\n",
       "      <td>3</td>\n",
       "      <td>2007</td>\n",
       "      <td>31</td>\n",
       "      <td>672</td>\n",
       "      <td>2</td>\n",
       "      <td>6.5</td>\n",
       "      <td>3</td>\n",
       "      <td>9.7</td>\n",
       "      <td>22</td>\n",
       "      <td>71.0</td>\n",
       "      <td>4</td>\n",
       "      <td>12.9</td>\n",
       "      <td>01</td>\n",
       "      <td>0</td>\n",
       "      <td>015</td>\n",
       "    </tr>\n",
       "    <tr>\n",
       "      <th>2</th>\n",
       "      <td>3</td>\n",
       "      <td>2008</td>\n",
       "      <td>37</td>\n",
       "      <td>668</td>\n",
       "      <td>0</td>\n",
       "      <td>0.0</td>\n",
       "      <td>6</td>\n",
       "      <td>16.2</td>\n",
       "      <td>29</td>\n",
       "      <td>78.4</td>\n",
       "      <td>2</td>\n",
       "      <td>5.4</td>\n",
       "      <td>01</td>\n",
       "      <td>0</td>\n",
       "      <td>015</td>\n",
       "    </tr>\n",
       "    <tr>\n",
       "      <th>3</th>\n",
       "      <td>3</td>\n",
       "      <td>2009</td>\n",
       "      <td>33</td>\n",
       "      <td>668</td>\n",
       "      <td>0</td>\n",
       "      <td>0.0</td>\n",
       "      <td>4</td>\n",
       "      <td>12.1</td>\n",
       "      <td>28</td>\n",
       "      <td>84.8</td>\n",
       "      <td>1</td>\n",
       "      <td>3.0</td>\n",
       "      <td>01</td>\n",
       "      <td>0</td>\n",
       "      <td>015</td>\n",
       "    </tr>\n",
       "    <tr>\n",
       "      <th>4</th>\n",
       "      <td>3</td>\n",
       "      <td>2010</td>\n",
       "      <td>26</td>\n",
       "      <td>677</td>\n",
       "      <td>6</td>\n",
       "      <td>23.1</td>\n",
       "      <td>12</td>\n",
       "      <td>46.2</td>\n",
       "      <td>6</td>\n",
       "      <td>23.1</td>\n",
       "      <td>2</td>\n",
       "      <td>7.7</td>\n",
       "      <td>01</td>\n",
       "      <td>0</td>\n",
       "      <td>015</td>\n",
       "    </tr>\n",
       "    <tr>\n",
       "      <th>...</th>\n",
       "      <td>...</td>\n",
       "      <td>...</td>\n",
       "      <td>...</td>\n",
       "      <td>...</td>\n",
       "      <td>...</td>\n",
       "      <td>...</td>\n",
       "      <td>...</td>\n",
       "      <td>...</td>\n",
       "      <td>...</td>\n",
       "      <td>...</td>\n",
       "      <td>...</td>\n",
       "      <td>...</td>\n",
       "      <td>...</td>\n",
       "      <td>...</td>\n",
       "      <td>...</td>\n",
       "    </tr>\n",
       "    <tr>\n",
       "      <th>33449</th>\n",
       "      <td>8</td>\n",
       "      <td>2008</td>\n",
       "      <td>36</td>\n",
       "      <td>567</td>\n",
       "      <td>34</td>\n",
       "      <td>94.4</td>\n",
       "      <td>2</td>\n",
       "      <td>5.6</td>\n",
       "      <td>0</td>\n",
       "      <td>0.0</td>\n",
       "      <td>0</td>\n",
       "      <td>0.0</td>\n",
       "      <td>75</td>\n",
       "      <td>1</td>\n",
       "      <td>723</td>\n",
       "    </tr>\n",
       "    <tr>\n",
       "      <th>33450</th>\n",
       "      <td>8</td>\n",
       "      <td>2009</td>\n",
       "      <td>31</td>\n",
       "      <td>597</td>\n",
       "      <td>18</td>\n",
       "      <td>58.1</td>\n",
       "      <td>13</td>\n",
       "      <td>41.9</td>\n",
       "      <td>0</td>\n",
       "      <td>0.0</td>\n",
       "      <td>0</td>\n",
       "      <td>0.0</td>\n",
       "      <td>75</td>\n",
       "      <td>1</td>\n",
       "      <td>723</td>\n",
       "    </tr>\n",
       "    <tr>\n",
       "      <th>33451</th>\n",
       "      <td>8</td>\n",
       "      <td>2010</td>\n",
       "      <td>38</td>\n",
       "      <td>598</td>\n",
       "      <td>32</td>\n",
       "      <td>84.2</td>\n",
       "      <td>6</td>\n",
       "      <td>15.8</td>\n",
       "      <td>0</td>\n",
       "      <td>0.0</td>\n",
       "      <td>0</td>\n",
       "      <td>0.0</td>\n",
       "      <td>75</td>\n",
       "      <td>1</td>\n",
       "      <td>723</td>\n",
       "    </tr>\n",
       "    <tr>\n",
       "      <th>33452</th>\n",
       "      <td>8</td>\n",
       "      <td>2011</td>\n",
       "      <td>32</td>\n",
       "      <td>595</td>\n",
       "      <td>24</td>\n",
       "      <td>75.0</td>\n",
       "      <td>7</td>\n",
       "      <td>21.9</td>\n",
       "      <td>1</td>\n",
       "      <td>3.1</td>\n",
       "      <td>0</td>\n",
       "      <td>0.0</td>\n",
       "      <td>75</td>\n",
       "      <td>1</td>\n",
       "      <td>723</td>\n",
       "    </tr>\n",
       "    <tr>\n",
       "      <th>33453</th>\n",
       "      <td>8</td>\n",
       "      <td>2012</td>\n",
       "      <td>17</td>\n",
       "      <td>632</td>\n",
       "      <td>8</td>\n",
       "      <td>47.1</td>\n",
       "      <td>9</td>\n",
       "      <td>52.9</td>\n",
       "      <td>0</td>\n",
       "      <td>0.0</td>\n",
       "      <td>0</td>\n",
       "      <td>0.0</td>\n",
       "      <td>75</td>\n",
       "      <td>1</td>\n",
       "      <td>723</td>\n",
       "    </tr>\n",
       "  </tbody>\n",
       "</table>\n",
       "<p>25391 rows × 15 columns</p>\n",
       "</div>"
      ],
      "text/plain": [
       "       Grade  Year  Number Tested Mean Scale Score  Num Level 1  Pct Level 1  \\\n",
       "0          3  2006             39              667            2          5.1   \n",
       "1          3  2007             31              672            2          6.5   \n",
       "2          3  2008             37              668            0          0.0   \n",
       "3          3  2009             33              668            0          0.0   \n",
       "4          3  2010             26              677            6         23.1   \n",
       "...      ...   ...            ...              ...          ...          ...   \n",
       "33449      8  2008             36              567           34         94.4   \n",
       "33450      8  2009             31              597           18         58.1   \n",
       "33451      8  2010             38              598           32         84.2   \n",
       "33452      8  2011             32              595           24         75.0   \n",
       "33453      8  2012             17              632            8         47.1   \n",
       "\n",
       "       Num Level 2  Pct Level 2  Num Level 3  Pct Level 3  Num Level 4  \\\n",
       "0               11         28.2           20         51.3            6   \n",
       "1                3          9.7           22         71.0            4   \n",
       "2                6         16.2           29         78.4            2   \n",
       "3                4         12.1           28         84.8            1   \n",
       "4               12         46.2            6         23.1            2   \n",
       "...            ...          ...          ...          ...          ...   \n",
       "33449            2          5.6            0          0.0            0   \n",
       "33450           13         41.9            0          0.0            0   \n",
       "33451            6         15.8            0          0.0            0   \n",
       "33452            7         21.9            1          3.1            0   \n",
       "33453            9         52.9            0          0.0            0   \n",
       "\n",
       "       Pct Level 4 District Number  Borough Number School Number  \n",
       "0             15.4              01               0           015  \n",
       "1             12.9              01               0           015  \n",
       "2              5.4              01               0           015  \n",
       "3              3.0              01               0           015  \n",
       "4              7.7              01               0           015  \n",
       "...            ...             ...             ...           ...  \n",
       "33449          0.0              75               1           723  \n",
       "33450          0.0              75               1           723  \n",
       "33451          0.0              75               1           723  \n",
       "33452          0.0              75               1           723  \n",
       "33453          0.0              75               1           723  \n",
       "\n",
       "[25391 rows x 15 columns]"
      ]
     },
     "execution_count": 165,
     "metadata": {},
     "output_type": "execute_result"
    }
   ],
   "source": [
    "math_results_df = math_results_df[math_results_df['Grade'] != 0]\n",
    "math_results_df"
   ]
  },
  {
   "cell_type": "markdown",
   "id": "8f21cbab",
   "metadata": {},
   "source": [
    "This in total leaves us with 25391 rows and 15 columns."
   ]
  },
  {
   "cell_type": "code",
   "execution_count": 166,
   "id": "e85436ac",
   "metadata": {},
   "outputs": [],
   "source": [
    "# Save the Dataframe\n",
    "math_results_df.to_csv(\"Math_Test_Results_Cleaned.csv\", index=False)"
   ]
  }
 ],
 "metadata": {
  "kernelspec": {
   "display_name": "aiframeworks",
   "language": "python",
   "name": "aiframeworks"
  },
  "language_info": {
   "codemirror_mode": {
    "name": "ipython",
    "version": 3
   },
   "file_extension": ".py",
   "mimetype": "text/x-python",
   "name": "python",
   "nbconvert_exporter": "python",
   "pygments_lexer": "ipython3",
   "version": "3.10.4"
  }
 },
 "nbformat": 4,
 "nbformat_minor": 5
}
