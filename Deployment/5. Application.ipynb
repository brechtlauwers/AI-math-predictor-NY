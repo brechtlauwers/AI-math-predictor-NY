{
 "cells": [
  {
   "cell_type": "markdown",
   "id": "9d0488fb",
   "metadata": {},
   "source": [
    "This notebook will create an application from the SVM model and makes it ready to deploy online."
   ]
  },
  {
   "cell_type": "code",
   "execution_count": 9,
   "id": "24627b91",
   "metadata": {},
   "outputs": [],
   "source": [
    "# imports\n",
    "import pandas as pd\n",
    "from sklearn.model_selection import train_test_split\n",
    "from sklearn.preprocessing import StandardScaler\n",
    "from sklearn.decomposition import PCA\n",
    "from sklearn.dummy import DummyRegressor\n",
    "from sklearn.svm import SVR\n",
    "\n",
    "import pickle\n",
    "import gradio as gr"
   ]
  },
  {
   "cell_type": "markdown",
   "id": "4deca36d",
   "metadata": {},
   "source": [
    "### Load pipeline"
   ]
  },
  {
   "cell_type": "code",
   "execution_count": 19,
   "id": "7465649e",
   "metadata": {},
   "outputs": [],
   "source": [
    "pipeline = pickle.load(open(\"model.pkl\", 'rb'))"
   ]
  },
  {
   "cell_type": "code",
   "execution_count": 20,
   "id": "7ef2e3ab",
   "metadata": {},
   "outputs": [],
   "source": [
    "# Load data\n",
    "math_df = pd.read_csv('../Data/Math_Test_Results_Cleaned.csv')\n",
    "X = math_df.drop('Mean Scale Score', axis=1)\n",
    "y = math_df['Mean Scale Score']\n",
    "X_train, X_test, y_train, y_test = train_test_split(X, y, test_size = 0.2, random_state = 1)"
   ]
  },
  {
   "cell_type": "code",
   "execution_count": 22,
   "id": "686eb9bd",
   "metadata": {},
   "outputs": [
    {
     "data": {
      "text/plain": [
       "0.979721351891418"
      ]
     },
     "execution_count": 22,
     "metadata": {},
     "output_type": "execute_result"
    }
   ],
   "source": [
    "pipeline.score(X_test, y_test)"
   ]
  },
  {
   "cell_type": "markdown",
   "id": "0e442a7b",
   "metadata": {},
   "source": [
    "The pipeline has been loaded successfully!"
   ]
  },
  {
   "cell_type": "markdown",
   "id": "9ec6fc33",
   "metadata": {},
   "source": [
    "### Deploy with Gradio\n",
    "First of all, gradio needs a callable function.  \n",
    "This is the prediction function in my case. "
   ]
  },
  {
   "cell_type": "code",
   "execution_count": 96,
   "id": "ec2863d5",
   "metadata": {},
   "outputs": [],
   "source": [
    "def predict_score(grade, year, n_lvl1, n_lvl2, n_lvl3, n_lvl4, DBN):\n",
    "    n_tested = n_lvl1 + n_lvl2 + n_lvl3 + n_lvl4\n",
    "    \n",
    "    pct_lvl1 = 0 if n_lvl1<=0 else (n_lvl1 / n_tested) * 100\n",
    "    pct_lvl2 = 0 if n_lvl2<=0 else (n_lvl2 / n_tested) * 100\n",
    "    pct_lvl3 = 0 if n_lvl3<=0 else (n_lvl3 / n_tested) * 100\n",
    "    pct_lvl4 = 0 if n_lvl4<=0 else (n_lvl4 / n_tested) * 100\n",
    "    \n",
    "    district_n = DBN[:2]\n",
    "    borough_n = DBN[2]\n",
    "    encoding = {'M':0, 'X':1, 'K':2, 'Q':3, 'R':4}\n",
    "    borough_n = encoding[borough_n]\n",
    "    school_n = DBN[3:]\n",
    "    \n",
    "    X = {\"Grade\":grade, \"Year\":year, \"Number Tested\":n_tested, \"Num Level 1\":n_lvl1, \"Pct Level 1\":pct_lvl1,\n",
    "         \"Num Level 2\":n_lvl2, \"Pct Level 2\":pct_lvl2, \"Num Level 3\":n_lvl3, \"Pct Level 3\":pct_lvl3,\n",
    "         \"Num Level 4\":n_lvl4, \"Pct Level 4\":pct_lvl4, \"District Number\":district_n, \n",
    "         \"Borough Number\":borough_n, \"School Number\":school_n}\n",
    "\n",
    "    y = pipeline.predict(pd.DataFrame(X, index=[0]))\n",
    "    return int(y[0])"
   ]
  },
  {
   "cell_type": "markdown",
   "id": "3bf00de4",
   "metadata": {},
   "source": [
    "We also need some input fields to get information from the user."
   ]
  },
  {
   "cell_type": "code",
   "execution_count": 94,
   "id": "817adb84",
   "metadata": {},
   "outputs": [
    {
     "name": "stdout",
     "output_type": "stream",
     "text": [
      "{'Grade': 5, 'Year': 2007, 'Number Tested': 68, 'Num Level 1': 20, 'Pct Level 1': 29.411764705882355, 'Num Level 2': -3, 'Pct Level 2': -4.411764705882353, 'Num Level 3': 11, 'Pct Level 3': 16.176470588235293, 'Num Level 4': 40, 'Pct Level 4': 58.82352941176471, 'District Number': '01', 'Borough Number': 0, 'School Number': '188'}\n"
     ]
    }
   ],
   "source": [
    "#create input and output objects\n",
    "grade = gr.Dropdown([3, 4, 5, 6, 7, 8], label=\"Grade\")\n",
    "year = gr.Dropdown([2006, 2007, 2008, 2009, 2010, 2011, 2012, 2013, 2014, 2015, 2016], label=\"Year\")\n",
    "n_lvl1 = gr.Number(precision=0, label=\"Amount of students in Level 1\")\n",
    "n_lvl2 = gr.Number(precision=0, label=\"Amount of students in Level 2\")\n",
    "n_lvl3 = gr.Number(precision=0, label=\"Amount of students in Level 3\")\n",
    "n_lvl4 = gr.Number(precision=0, label=\"Amount of students in Level 4\")\n",
    "DBN = gr.Textbox(label=\"DBN (e.g. '01M188')\")\n",
    "\n",
    "#output object\n",
    "output = gr.Textbox(label=\"Predicted Mean Scale Score\")"
   ]
  },
  {
   "cell_type": "code",
   "execution_count": 63,
   "id": "3f497e7e",
   "metadata": {},
   "outputs": [
    {
     "data": {
      "text/plain": [
       "Grade                 7.0\n",
       "Year               2012.0\n",
       "Number Tested       412.0\n",
       "Num Level 1           0.0\n",
       "Pct Level 1           0.0\n",
       "Num Level 2          22.0\n",
       "Pct Level 2           5.3\n",
       "Num Level 3          97.0\n",
       "Pct Level 3          23.5\n",
       "Num Level 4         293.0\n",
       "Pct Level 4          71.1\n",
       "District Number      21.0\n",
       "Borough Number        2.0\n",
       "School Number        98.0\n",
       "Name: 15000, dtype: float64"
      ]
     },
     "execution_count": 63,
     "metadata": {},
     "output_type": "execute_result"
    }
   ],
   "source": [
    "X_test.iloc[0]"
   ]
  },
  {
   "cell_type": "code",
   "execution_count": 95,
   "id": "1ea81b76",
   "metadata": {
    "scrolled": false
   },
   "outputs": [
    {
     "name": "stdout",
     "output_type": "stream",
     "text": [
      "Running on local URL:  http://127.0.0.1:7873\n",
      "\n",
      "To create a public link, set `share=True` in `launch()`.\n"
     ]
    },
    {
     "data": {
      "text/html": [
       "<div><iframe src=\"http://127.0.0.1:7873/\" width=\"100%\" height=\"500\" allow=\"autoplay; camera; microphone; clipboard-read; clipboard-write;\" frameborder=\"0\" allowfullscreen></iframe></div>"
      ],
      "text/plain": [
       "<IPython.core.display.HTML object>"
      ]
     },
     "metadata": {},
     "output_type": "display_data"
    },
    {
     "data": {
      "text/plain": []
     },
     "execution_count": 95,
     "metadata": {},
     "output_type": "execute_result"
    }
   ],
   "source": [
    "gui = gr.Interface(fn=predict_score,\n",
    "                   inputs=[grade, year, n_lvl1, n_lvl2, n_lvl3, n_lvl4, DBN],\n",
    "                   outputs=[output])\n",
    "gui.launch()"
   ]
  },
  {
   "cell_type": "code",
   "execution_count": 97,
   "id": "4aed2028",
   "metadata": {},
   "outputs": [
    {
     "name": "stdout",
     "output_type": "stream",
     "text": [
      "689\n"
     ]
    }
   ],
   "source": [
    "print(predict_score(grade=5, year=2015, n_lvl1=10, n_lvl2=20, n_lvl3=20, n_lvl4=50, DBN=\"01M188\"))"
   ]
  },
  {
   "cell_type": "markdown",
   "id": "48a9a096",
   "metadata": {},
   "source": [
    "Example rows from the test set for testing the online deployed model:  \n",
    "\n",
    "[Grade, Year, Lvl1, Lvl2, Lvl3, Lvl4, DBN] -> result \n",
    "\n",
    "[6, 2011, 3, 27, 23, 8, 12X271] -> 674  \n",
    "[3, 2006, 20, 24, 38, 16, 22K109] -> 656"
   ]
  }
 ],
 "metadata": {
  "kernelspec": {
   "display_name": "aiframeworks",
   "language": "python",
   "name": "aiframeworks"
  },
  "language_info": {
   "codemirror_mode": {
    "name": "ipython",
    "version": 3
   },
   "file_extension": ".py",
   "mimetype": "text/x-python",
   "name": "python",
   "nbconvert_exporter": "python",
   "pygments_lexer": "ipython3",
   "version": "3.10.4"
  },
  "toc": {
   "base_numbering": 1,
   "nav_menu": {},
   "number_sections": true,
   "sideBar": true,
   "skip_h1_title": false,
   "title_cell": "Table of Contents",
   "title_sidebar": "Contents",
   "toc_cell": false,
   "toc_position": {},
   "toc_section_display": true,
   "toc_window_display": false
  }
 },
 "nbformat": 4,
 "nbformat_minor": 5
}
